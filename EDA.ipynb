{
 "cells": [
  {
   "cell_type": "markdown",
   "id": "8aa05da6",
   "metadata": {},
   "source": [
    "## Exploratory data analysis(EDA)"
   ]
  },
  {
   "cell_type": "markdown",
   "id": "40b7d5cf",
   "metadata": {},
   "source": [
    "## What is EDA\n",
    "    -->To understand the nature of the data\n",
    "    -->To explore data in different perspective\n",
    "    -->To get some insights about the data"
   ]
  },
  {
   "cell_type": "markdown",
   "id": "ae23dc21",
   "metadata": {},
   "source": [
    "## Why it is important\n",
    "    -->EDA is important before we feed/train the data to ML model\n",
    "    -->To get some insights about the data\n",
    "    -->To clean and handle the issues with the data\n",
    "    -->To get better understanding of the data\n",
    "    -->To understand the underlying problems\n",
    "    -->To understand the features/columns and relationship between them"
   ]
  },
  {
   "cell_type": "markdown",
   "id": "eaf10594",
   "metadata": {},
   "source": [
    "## Why is data so important\n",
    "    -->For prediction\n",
    "    -->To get some insights about the past and improve in future\n",
    "    -->Helps to make neccessary stories around the data as an outcome"
   ]
  },
  {
   "cell_type": "markdown",
   "id": "8d5f167d",
   "metadata": {},
   "source": [
    "## Data dictionary\n",
    "    -->Metadata:The data of the data\n",
    "    -->understand the columns"
   ]
  },
  {
   "cell_type": "markdown",
   "id": "40136174",
   "metadata": {},
   "source": [
    "## EDA steps\n",
    "    1.Understand the shape of the data\n",
    "    2.Basic information about the data-->number and names of columns,number of rows,data types of columns,null values in each col etc...\n",
    "    3.Statistical summary of the data\n",
    "    4.check for null values\n",
    "    5.check for duplicate values\n",
    "    6.check for unique values\n",
    "    7.Understand the categorial and numarical cols\n",
    "    8.Handle the null data\n",
    "    9.Distribution of the data\n",
    "    10.Treatment of null values\n",
    "    11.Treatment of unique values\n",
    "    12.Treatmemt of duplicate values\n",
    "    13.Co-relation\n",
    "    14.Outliers detection and treatment\n",
    "    15.Graphs\n",
    "    16.Encoding"
   ]
  },
  {
   "cell_type": "code",
   "execution_count": null,
   "id": "903f2558",
   "metadata": {},
   "outputs": [],
   "source": []
  }
 ],
 "metadata": {
  "kernelspec": {
   "display_name": "Python 3 (ipykernel)",
   "language": "python",
   "name": "python3"
  },
  "language_info": {
   "codemirror_mode": {
    "name": "ipython",
    "version": 3
   },
   "file_extension": ".py",
   "mimetype": "text/x-python",
   "name": "python",
   "nbconvert_exporter": "python",
   "pygments_lexer": "ipython3",
   "version": "3.11.5"
  }
 },
 "nbformat": 4,
 "nbformat_minor": 5
}
