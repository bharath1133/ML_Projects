{
 "cells": [
  {
   "cell_type": "code",
   "execution_count": 2141,
   "id": "f68aa5a9",
   "metadata": {},
   "outputs": [],
   "source": [
    "import pandas as pd\n",
    "import numpy as np\n",
    "import matplotlib.pyplot as plt\n",
    "import seaborn as sns"
   ]
  },
  {
   "cell_type": "code",
   "execution_count": 2142,
   "id": "9e26a0cd",
   "metadata": {
    "scrolled": false
   },
   "outputs": [
    {
     "data": {
      "text/html": [
       "<div>\n",
       "<style scoped>\n",
       "    .dataframe tbody tr th:only-of-type {\n",
       "        vertical-align: middle;\n",
       "    }\n",
       "\n",
       "    .dataframe tbody tr th {\n",
       "        vertical-align: top;\n",
       "    }\n",
       "\n",
       "    .dataframe thead th {\n",
       "        text-align: right;\n",
       "    }\n",
       "</style>\n",
       "<table border=\"1\" class=\"dataframe\">\n",
       "  <thead>\n",
       "    <tr style=\"text-align: right;\">\n",
       "      <th></th>\n",
       "      <th>age</th>\n",
       "      <th>sex</th>\n",
       "      <th>bmi</th>\n",
       "      <th>children</th>\n",
       "      <th>smoker</th>\n",
       "      <th>region</th>\n",
       "      <th>charges</th>\n",
       "    </tr>\n",
       "  </thead>\n",
       "  <tbody>\n",
       "    <tr>\n",
       "      <th>0</th>\n",
       "      <td>19</td>\n",
       "      <td>female</td>\n",
       "      <td>27.900</td>\n",
       "      <td>0</td>\n",
       "      <td>yes</td>\n",
       "      <td>southwest</td>\n",
       "      <td>16884.92400</td>\n",
       "    </tr>\n",
       "    <tr>\n",
       "      <th>1</th>\n",
       "      <td>18</td>\n",
       "      <td>male</td>\n",
       "      <td>33.770</td>\n",
       "      <td>1</td>\n",
       "      <td>no</td>\n",
       "      <td>southeast</td>\n",
       "      <td>1725.55230</td>\n",
       "    </tr>\n",
       "    <tr>\n",
       "      <th>2</th>\n",
       "      <td>28</td>\n",
       "      <td>male</td>\n",
       "      <td>33.000</td>\n",
       "      <td>3</td>\n",
       "      <td>no</td>\n",
       "      <td>southeast</td>\n",
       "      <td>4449.46200</td>\n",
       "    </tr>\n",
       "    <tr>\n",
       "      <th>3</th>\n",
       "      <td>33</td>\n",
       "      <td>male</td>\n",
       "      <td>22.705</td>\n",
       "      <td>0</td>\n",
       "      <td>no</td>\n",
       "      <td>northwest</td>\n",
       "      <td>21984.47061</td>\n",
       "    </tr>\n",
       "    <tr>\n",
       "      <th>4</th>\n",
       "      <td>32</td>\n",
       "      <td>male</td>\n",
       "      <td>28.880</td>\n",
       "      <td>0</td>\n",
       "      <td>no</td>\n",
       "      <td>northwest</td>\n",
       "      <td>3866.85520</td>\n",
       "    </tr>\n",
       "  </tbody>\n",
       "</table>\n",
       "</div>"
      ],
      "text/plain": [
       "   age     sex     bmi  children smoker     region      charges\n",
       "0   19  female  27.900         0    yes  southwest  16884.92400\n",
       "1   18    male  33.770         1     no  southeast   1725.55230\n",
       "2   28    male  33.000         3     no  southeast   4449.46200\n",
       "3   33    male  22.705         0     no  northwest  21984.47061\n",
       "4   32    male  28.880         0     no  northwest   3866.85520"
      ]
     },
     "execution_count": 2142,
     "metadata": {},
     "output_type": "execute_result"
    }
   ],
   "source": [
    "#Read the file\n",
    "df=pd.read_csv(\"insurance.csv\")\n",
    "df.head()"
   ]
  },
  {
   "cell_type": "code",
   "execution_count": 2143,
   "id": "4403ed56",
   "metadata": {},
   "outputs": [
    {
     "data": {
      "text/html": [
       "<div>\n",
       "<style scoped>\n",
       "    .dataframe tbody tr th:only-of-type {\n",
       "        vertical-align: middle;\n",
       "    }\n",
       "\n",
       "    .dataframe tbody tr th {\n",
       "        vertical-align: top;\n",
       "    }\n",
       "\n",
       "    .dataframe thead th {\n",
       "        text-align: right;\n",
       "    }\n",
       "</style>\n",
       "<table border=\"1\" class=\"dataframe\">\n",
       "  <thead>\n",
       "    <tr style=\"text-align: right;\">\n",
       "      <th></th>\n",
       "      <th>age</th>\n",
       "      <th>sex</th>\n",
       "      <th>bmi</th>\n",
       "      <th>children</th>\n",
       "      <th>smoker</th>\n",
       "      <th>region</th>\n",
       "      <th>charges</th>\n",
       "    </tr>\n",
       "  </thead>\n",
       "  <tbody>\n",
       "    <tr>\n",
       "      <th>899</th>\n",
       "      <td>19</td>\n",
       "      <td>female</td>\n",
       "      <td>22.515</td>\n",
       "      <td>0</td>\n",
       "      <td>no</td>\n",
       "      <td>northwest</td>\n",
       "      <td>2117.33885</td>\n",
       "    </tr>\n",
       "  </tbody>\n",
       "</table>\n",
       "</div>"
      ],
      "text/plain": [
       "     age     sex     bmi  children smoker     region     charges\n",
       "899   19  female  22.515         0     no  northwest  2117.33885"
      ]
     },
     "execution_count": 2143,
     "metadata": {},
     "output_type": "execute_result"
    }
   ],
   "source": [
    "df.iloc[899:900]"
   ]
  },
  {
   "cell_type": "code",
   "execution_count": 2144,
   "id": "2976d098",
   "metadata": {},
   "outputs": [
    {
     "data": {
      "text/plain": [
       "(1338, 7)"
      ]
     },
     "execution_count": 2144,
     "metadata": {},
     "output_type": "execute_result"
    }
   ],
   "source": [
    "#Check the shape\n",
    "df.shape"
   ]
  },
  {
   "cell_type": "code",
   "execution_count": 2145,
   "id": "d754fb92",
   "metadata": {},
   "outputs": [
    {
     "name": "stdout",
     "output_type": "stream",
     "text": [
      "<class 'pandas.core.frame.DataFrame'>\n",
      "RangeIndex: 1338 entries, 0 to 1337\n",
      "Data columns (total 7 columns):\n",
      " #   Column    Non-Null Count  Dtype  \n",
      "---  ------    --------------  -----  \n",
      " 0   age       1338 non-null   int64  \n",
      " 1   sex       1338 non-null   object \n",
      " 2   bmi       1338 non-null   float64\n",
      " 3   children  1338 non-null   int64  \n",
      " 4   smoker    1338 non-null   object \n",
      " 5   region    1338 non-null   object \n",
      " 6   charges   1338 non-null   float64\n",
      "dtypes: float64(2), int64(2), object(3)\n",
      "memory usage: 73.3+ KB\n"
     ]
    }
   ],
   "source": [
    "#Check the structure of the dat\n",
    "df.info()"
   ]
  },
  {
   "cell_type": "code",
   "execution_count": 2146,
   "id": "0ffe0e24",
   "metadata": {},
   "outputs": [
    {
     "data": {
      "text/html": [
       "<div>\n",
       "<style scoped>\n",
       "    .dataframe tbody tr th:only-of-type {\n",
       "        vertical-align: middle;\n",
       "    }\n",
       "\n",
       "    .dataframe tbody tr th {\n",
       "        vertical-align: top;\n",
       "    }\n",
       "\n",
       "    .dataframe thead th {\n",
       "        text-align: right;\n",
       "    }\n",
       "</style>\n",
       "<table border=\"1\" class=\"dataframe\">\n",
       "  <thead>\n",
       "    <tr style=\"text-align: right;\">\n",
       "      <th></th>\n",
       "      <th>age</th>\n",
       "      <th>bmi</th>\n",
       "      <th>children</th>\n",
       "      <th>charges</th>\n",
       "    </tr>\n",
       "  </thead>\n",
       "  <tbody>\n",
       "    <tr>\n",
       "      <th>count</th>\n",
       "      <td>1338.000000</td>\n",
       "      <td>1338.000000</td>\n",
       "      <td>1338.000000</td>\n",
       "      <td>1338.000000</td>\n",
       "    </tr>\n",
       "    <tr>\n",
       "      <th>mean</th>\n",
       "      <td>39.207025</td>\n",
       "      <td>30.663397</td>\n",
       "      <td>1.094918</td>\n",
       "      <td>13270.422265</td>\n",
       "    </tr>\n",
       "    <tr>\n",
       "      <th>std</th>\n",
       "      <td>14.049960</td>\n",
       "      <td>6.098187</td>\n",
       "      <td>1.205493</td>\n",
       "      <td>12110.011237</td>\n",
       "    </tr>\n",
       "    <tr>\n",
       "      <th>min</th>\n",
       "      <td>18.000000</td>\n",
       "      <td>15.960000</td>\n",
       "      <td>0.000000</td>\n",
       "      <td>1121.873900</td>\n",
       "    </tr>\n",
       "    <tr>\n",
       "      <th>25%</th>\n",
       "      <td>27.000000</td>\n",
       "      <td>26.296250</td>\n",
       "      <td>0.000000</td>\n",
       "      <td>4740.287150</td>\n",
       "    </tr>\n",
       "    <tr>\n",
       "      <th>50%</th>\n",
       "      <td>39.000000</td>\n",
       "      <td>30.400000</td>\n",
       "      <td>1.000000</td>\n",
       "      <td>9382.033000</td>\n",
       "    </tr>\n",
       "    <tr>\n",
       "      <th>75%</th>\n",
       "      <td>51.000000</td>\n",
       "      <td>34.693750</td>\n",
       "      <td>2.000000</td>\n",
       "      <td>16639.912515</td>\n",
       "    </tr>\n",
       "    <tr>\n",
       "      <th>max</th>\n",
       "      <td>64.000000</td>\n",
       "      <td>53.130000</td>\n",
       "      <td>5.000000</td>\n",
       "      <td>63770.428010</td>\n",
       "    </tr>\n",
       "  </tbody>\n",
       "</table>\n",
       "</div>"
      ],
      "text/plain": [
       "               age          bmi     children       charges\n",
       "count  1338.000000  1338.000000  1338.000000   1338.000000\n",
       "mean     39.207025    30.663397     1.094918  13270.422265\n",
       "std      14.049960     6.098187     1.205493  12110.011237\n",
       "min      18.000000    15.960000     0.000000   1121.873900\n",
       "25%      27.000000    26.296250     0.000000   4740.287150\n",
       "50%      39.000000    30.400000     1.000000   9382.033000\n",
       "75%      51.000000    34.693750     2.000000  16639.912515\n",
       "max      64.000000    53.130000     5.000000  63770.428010"
      ]
     },
     "execution_count": 2146,
     "metadata": {},
     "output_type": "execute_result"
    }
   ],
   "source": [
    "# Statistical summary of the data\n",
    "df.describe()"
   ]
  },
  {
   "cell_type": "code",
   "execution_count": 2147,
   "id": "3df1d8f1",
   "metadata": {},
   "outputs": [
    {
     "data": {
      "text/html": [
       "<div>\n",
       "<style scoped>\n",
       "    .dataframe tbody tr th:only-of-type {\n",
       "        vertical-align: middle;\n",
       "    }\n",
       "\n",
       "    .dataframe tbody tr th {\n",
       "        vertical-align: top;\n",
       "    }\n",
       "\n",
       "    .dataframe thead th {\n",
       "        text-align: right;\n",
       "    }\n",
       "</style>\n",
       "<table border=\"1\" class=\"dataframe\">\n",
       "  <thead>\n",
       "    <tr style=\"text-align: right;\">\n",
       "      <th></th>\n",
       "      <th>count</th>\n",
       "      <th>mean</th>\n",
       "      <th>std</th>\n",
       "      <th>min</th>\n",
       "      <th>25%</th>\n",
       "      <th>50%</th>\n",
       "      <th>75%</th>\n",
       "      <th>max</th>\n",
       "    </tr>\n",
       "  </thead>\n",
       "  <tbody>\n",
       "    <tr>\n",
       "      <th>age</th>\n",
       "      <td>1338.0</td>\n",
       "      <td>39.207025</td>\n",
       "      <td>14.049960</td>\n",
       "      <td>18.0000</td>\n",
       "      <td>27.00000</td>\n",
       "      <td>39.000</td>\n",
       "      <td>51.000000</td>\n",
       "      <td>64.00000</td>\n",
       "    </tr>\n",
       "    <tr>\n",
       "      <th>bmi</th>\n",
       "      <td>1338.0</td>\n",
       "      <td>30.663397</td>\n",
       "      <td>6.098187</td>\n",
       "      <td>15.9600</td>\n",
       "      <td>26.29625</td>\n",
       "      <td>30.400</td>\n",
       "      <td>34.693750</td>\n",
       "      <td>53.13000</td>\n",
       "    </tr>\n",
       "    <tr>\n",
       "      <th>children</th>\n",
       "      <td>1338.0</td>\n",
       "      <td>1.094918</td>\n",
       "      <td>1.205493</td>\n",
       "      <td>0.0000</td>\n",
       "      <td>0.00000</td>\n",
       "      <td>1.000</td>\n",
       "      <td>2.000000</td>\n",
       "      <td>5.00000</td>\n",
       "    </tr>\n",
       "    <tr>\n",
       "      <th>charges</th>\n",
       "      <td>1338.0</td>\n",
       "      <td>13270.422265</td>\n",
       "      <td>12110.011237</td>\n",
       "      <td>1121.8739</td>\n",
       "      <td>4740.28715</td>\n",
       "      <td>9382.033</td>\n",
       "      <td>16639.912515</td>\n",
       "      <td>63770.42801</td>\n",
       "    </tr>\n",
       "  </tbody>\n",
       "</table>\n",
       "</div>"
      ],
      "text/plain": [
       "           count          mean           std        min         25%       50%  \\\n",
       "age       1338.0     39.207025     14.049960    18.0000    27.00000    39.000   \n",
       "bmi       1338.0     30.663397      6.098187    15.9600    26.29625    30.400   \n",
       "children  1338.0      1.094918      1.205493     0.0000     0.00000     1.000   \n",
       "charges   1338.0  13270.422265  12110.011237  1121.8739  4740.28715  9382.033   \n",
       "\n",
       "                   75%          max  \n",
       "age          51.000000     64.00000  \n",
       "bmi          34.693750     53.13000  \n",
       "children      2.000000      5.00000  \n",
       "charges   16639.912515  63770.42801  "
      ]
     },
     "execution_count": 2147,
     "metadata": {},
     "output_type": "execute_result"
    }
   ],
   "source": [
    "df.describe().T"
   ]
  },
  {
   "cell_type": "code",
   "execution_count": 2148,
   "id": "349a1b81",
   "metadata": {},
   "outputs": [
    {
     "data": {
      "text/html": [
       "<div>\n",
       "<style scoped>\n",
       "    .dataframe tbody tr th:only-of-type {\n",
       "        vertical-align: middle;\n",
       "    }\n",
       "\n",
       "    .dataframe tbody tr th {\n",
       "        vertical-align: top;\n",
       "    }\n",
       "\n",
       "    .dataframe thead th {\n",
       "        text-align: right;\n",
       "    }\n",
       "</style>\n",
       "<table border=\"1\" class=\"dataframe\">\n",
       "  <thead>\n",
       "    <tr style=\"text-align: right;\">\n",
       "      <th></th>\n",
       "      <th>age</th>\n",
       "      <th>sex</th>\n",
       "      <th>bmi</th>\n",
       "      <th>children</th>\n",
       "      <th>smoker</th>\n",
       "      <th>region</th>\n",
       "      <th>charges</th>\n",
       "    </tr>\n",
       "  </thead>\n",
       "  <tbody>\n",
       "    <tr>\n",
       "      <th>581</th>\n",
       "      <td>19</td>\n",
       "      <td>male</td>\n",
       "      <td>30.59</td>\n",
       "      <td>0</td>\n",
       "      <td>no</td>\n",
       "      <td>northwest</td>\n",
       "      <td>1639.5631</td>\n",
       "    </tr>\n",
       "  </tbody>\n",
       "</table>\n",
       "</div>"
      ],
      "text/plain": [
       "     age   sex    bmi  children smoker     region    charges\n",
       "581   19  male  30.59         0     no  northwest  1639.5631"
      ]
     },
     "execution_count": 2148,
     "metadata": {},
     "output_type": "execute_result"
    }
   ],
   "source": [
    "# Check for dupplicate records\n",
    "df[df.duplicated()]"
   ]
  },
  {
   "cell_type": "code",
   "execution_count": 2149,
   "id": "d567b32e",
   "metadata": {},
   "outputs": [],
   "source": [
    "# drop the duplicate record\n",
    "df.drop_duplicates(inplace=True)"
   ]
  },
  {
   "cell_type": "code",
   "execution_count": 2150,
   "id": "487434a9",
   "metadata": {},
   "outputs": [
    {
     "data": {
      "text/plain": [
       "(1337, 7)"
      ]
     },
     "execution_count": 2150,
     "metadata": {},
     "output_type": "execute_result"
    }
   ],
   "source": [
    "df.shape"
   ]
  },
  {
   "cell_type": "code",
   "execution_count": 2151,
   "id": "51535f6c",
   "metadata": {},
   "outputs": [],
   "source": [
    "df1=df.copy()"
   ]
  },
  {
   "cell_type": "code",
   "execution_count": 2152,
   "id": "91c46231",
   "metadata": {},
   "outputs": [
    {
     "name": "stdout",
     "output_type": "stream",
     "text": [
      "age: 0\n",
      "sex: 0\n",
      "bmi: 0\n",
      "children: 0\n",
      "smoker: 0\n",
      "region: 0\n",
      "charges: 0\n"
     ]
    }
   ],
   "source": [
    "# Check for missing values\n",
    "for i in df.columns.values:\n",
    "    print(i+':',df[i].isna().sum())"
   ]
  },
  {
   "cell_type": "code",
   "execution_count": 2153,
   "id": "dfd38ada",
   "metadata": {},
   "outputs": [],
   "source": [
    "# From above we can understand there no missing values in each column"
   ]
  },
  {
   "cell_type": "code",
   "execution_count": 2154,
   "id": "63553ff2",
   "metadata": {},
   "outputs": [
    {
     "name": "stdout",
     "output_type": "stream",
     "text": [
      "Index(['age', 'bmi', 'children', 'charges'], dtype='object')\n"
     ]
    },
    {
     "data": {
      "image/png": "[encoded data removed]",
      "text/plain": [
       "<Figure size 2200x800 with 4 Axes>"
      ]
     },
     "metadata": {},
     "output_type": "display_data"
    }
   ],
   "source": [
    "# Check for outliers\n",
    "numaric_cols=df.select_dtypes(include=['number']).columns\n",
    "print(numaric_cols)\n",
    "   \n",
    "temp=1\n",
    "plt.figure(figsize=(22,8))\n",
    "for i in numaric_cols:\n",
    "    plt.subplot(1,4,temp)\n",
    "    plt.ylabel(i,fontsize=12,color='Red')\n",
    "    sns.boxplot(df[i])\n",
    "    temp=temp+1\n",
    "plt.show()"
   ]
  },
  {
   "cell_type": "code",
   "execution_count": 2155,
   "id": "b9186419",
   "metadata": {},
   "outputs": [
    {
     "name": "stdout",
     "output_type": "stream",
     "text": [
      "skew value 0.054780773126998195\n",
      "0       19\n",
      "1       18\n",
      "2       28\n",
      "3       33\n",
      "4       32\n",
      "        ..\n",
      "1333    50\n",
      "1334    18\n",
      "1335    18\n",
      "1336    21\n",
      "1337    61\n",
      "Name: age, Length: 1337, dtype: int64\n",
      "skew value 0.28391419385321137\n",
      "0       27.900\n",
      "1       33.770\n",
      "2       33.000\n",
      "3       22.705\n",
      "4       28.880\n",
      "         ...  \n",
      "1333    30.970\n",
      "1334    31.920\n",
      "1335    36.850\n",
      "1336    25.800\n",
      "1337    29.070\n",
      "Name: bmi, Length: 1337, dtype: float64\n",
      "skew value 0.9374206440474123\n",
      "0       0\n",
      "1       1\n",
      "2       3\n",
      "3       0\n",
      "4       0\n",
      "       ..\n",
      "1333    3\n",
      "1334    0\n",
      "1335    0\n",
      "1336    0\n",
      "1337    0\n",
      "Name: children, Length: 1337, dtype: int64\n",
      "skew value 1.5153909108403483\n",
      "0       16884.92400\n",
      "1        1725.55230\n",
      "2        4449.46200\n",
      "3       21984.47061\n",
      "4        3866.85520\n",
      "           ...     \n",
      "1333    10600.54830\n",
      "1334     2205.98080\n",
      "1335     1629.83350\n",
      "1336     2007.94500\n",
      "1337    29141.36030\n",
      "Name: charges, Length: 1337, dtype: float64\n"
     ]
    }
   ],
   "source": [
    "# Check the skewness\n",
    "for i in numaric_cols:\n",
    "    print(\"skew value\",df[i].skew())\n",
    "    print(df[i])"
   ]
  },
  {
   "cell_type": "code",
   "execution_count": null,
   "id": "8757682e",
   "metadata": {},
   "outputs": [],
   "source": []
  },
  {
   "cell_type": "code",
   "execution_count": 2156,
   "id": "51e863b7",
   "metadata": {},
   "outputs": [
    {
     "name": "stdout",
     "output_type": "stream",
     "text": [
      "26.29\n",
      "30.4\n",
      "34.7\n"
     ]
    },
    {
     "data": {
      "text/plain": [
       "8.410000000000004"
      ]
     },
     "execution_count": 2156,
     "metadata": {},
     "output_type": "execute_result"
    }
   ],
   "source": [
    "# Handling outliers in BMI column\n",
    "q1=df['bmi'].quantile(0.25)\n",
    "print(q1)\n",
    "q2=df['bmi'].quantile(0.50)\n",
    "print(q2)\n",
    "q3=df['bmi'].quantile(0.75)\n",
    "print(q3)\n",
    "IQR=q3-q1     \n",
    "IQR"
   ]
  },
  {
   "cell_type": "code",
   "execution_count": 2157,
   "id": "c9f53271",
   "metadata": {},
   "outputs": [
    {
     "name": "stdout",
     "output_type": "stream",
     "text": [
      "13.674999999999994 47.31500000000001\n"
     ]
    }
   ],
   "source": [
    "lower_bound=q1-(1.5*IQR)\n",
    "upper_bound=q3+(1.5*IQR)\n",
    "print(lower_bound,upper_bound)"
   ]
  },
  {
   "cell_type": "code",
   "execution_count": 2158,
   "id": "1e1163c5",
   "metadata": {},
   "outputs": [
    {
     "data": {
      "text/plain": [
       "0       27.900\n",
       "1       33.770\n",
       "2       33.000\n",
       "3       22.705\n",
       "4       28.880\n",
       "         ...  \n",
       "1333    30.970\n",
       "1334    31.920\n",
       "1335    36.850\n",
       "1336    25.800\n",
       "1337    29.070\n",
       "Name: bmi, Length: 1337, dtype: float64"
      ]
     },
     "execution_count": 2158,
     "metadata": {},
     "output_type": "execute_result"
    }
   ],
   "source": [
    "#Use clip method to replace the outliers values\n",
    "bmi_clipped=df['bmi'].clip(lower=lower_bound,upper=upper_bound)\n",
    "bmi_clipped"
   ]
  },
  {
   "cell_type": "code",
   "execution_count": 2159,
   "id": "9b8b02fb",
   "metadata": {},
   "outputs": [],
   "source": [
    "# Replace the BMI column with bmi_clipped instead of dropping\n",
    "df['bmi']=bmi_clipped"
   ]
  },
  {
   "cell_type": "code",
   "execution_count": 2160,
   "id": "fc8eabe6",
   "metadata": {},
   "outputs": [
    {
     "data": {
      "text/plain": [
       "<Axes: >"
      ]
     },
     "execution_count": 2160,
     "metadata": {},
     "output_type": "execute_result"
    },
    {
     "data": {
      "image/png": "[encoded data removed]",
      "text/plain": [
       "<Figure size 640x480 with 1 Axes>"
      ]
     },
     "metadata": {},
     "output_type": "display_data"
    }
   ],
   "source": [
    "sns.boxplot(df['bmi'])"
   ]
  },
  {
   "cell_type": "code",
   "execution_count": 2161,
   "id": "ad8f2c60",
   "metadata": {},
   "outputs": [
    {
     "name": "stdout",
     "output_type": "stream",
     "text": [
      "4746.344 9386.1613 16657.71745\n"
     ]
    }
   ],
   "source": [
    "# Handling outliers in charges column\n",
    "q1=df['charges'].quantile(0.25)\n",
    "q2=df['charges'].quantile(0.50)\n",
    "q3=df['charges'].quantile(0.75)\n",
    "print(q1,q2,q3)"
   ]
  },
  {
   "cell_type": "code",
   "execution_count": 2162,
   "id": "6fbea84d",
   "metadata": {},
   "outputs": [
    {
     "data": {
      "text/plain": [
       "11911.37345"
      ]
     },
     "execution_count": 2162,
     "metadata": {},
     "output_type": "execute_result"
    }
   ],
   "source": [
    "IQR=q3-q1\n",
    "IQR"
   ]
  },
  {
   "cell_type": "code",
   "execution_count": 2163,
   "id": "d265fee9",
   "metadata": {},
   "outputs": [
    {
     "name": "stdout",
     "output_type": "stream",
     "text": [
      "-13120.716174999998 34524.777625\n"
     ]
    }
   ],
   "source": [
    "lb=q1-(1.5*IQR)\n",
    "ub=q3+(1.5*IQR)\n",
    "print(lb,ub)"
   ]
  },
  {
   "cell_type": "code",
   "execution_count": 2164,
   "id": "8b2bb526",
   "metadata": {},
   "outputs": [],
   "source": [
    "charges_clipped=df['charges'].clip(lower=lb,upper=ub)"
   ]
  },
  {
   "cell_type": "code",
   "execution_count": 2165,
   "id": "03afd83a",
   "metadata": {},
   "outputs": [],
   "source": [
    "df['charges']=charges_clipped"
   ]
  },
  {
   "cell_type": "code",
   "execution_count": 2166,
   "id": "6d5af660",
   "metadata": {},
   "outputs": [
    {
     "data": {
      "text/html": [
       "<div>\n",
       "<style scoped>\n",
       "    .dataframe tbody tr th:only-of-type {\n",
       "        vertical-align: middle;\n",
       "    }\n",
       "\n",
       "    .dataframe tbody tr th {\n",
       "        vertical-align: top;\n",
       "    }\n",
       "\n",
       "    .dataframe thead th {\n",
       "        text-align: right;\n",
       "    }\n",
       "</style>\n",
       "<table border=\"1\" class=\"dataframe\">\n",
       "  <thead>\n",
       "    <tr style=\"text-align: right;\">\n",
       "      <th></th>\n",
       "      <th>age</th>\n",
       "      <th>bmi</th>\n",
       "      <th>children</th>\n",
       "      <th>charges</th>\n",
       "    </tr>\n",
       "  </thead>\n",
       "  <tbody>\n",
       "    <tr>\n",
       "      <th>count</th>\n",
       "      <td>1337.000000</td>\n",
       "      <td>1337.000000</td>\n",
       "      <td>1337.000000</td>\n",
       "      <td>1337.000000</td>\n",
       "    </tr>\n",
       "    <tr>\n",
       "      <th>mean</th>\n",
       "      <td>39.222139</td>\n",
       "      <td>30.650247</td>\n",
       "      <td>1.095737</td>\n",
       "      <td>12491.159952</td>\n",
       "    </tr>\n",
       "    <tr>\n",
       "      <th>std</th>\n",
       "      <td>14.044333</td>\n",
       "      <td>6.059655</td>\n",
       "      <td>1.205571</td>\n",
       "      <td>10165.511950</td>\n",
       "    </tr>\n",
       "    <tr>\n",
       "      <th>min</th>\n",
       "      <td>18.000000</td>\n",
       "      <td>15.960000</td>\n",
       "      <td>0.000000</td>\n",
       "      <td>1121.873900</td>\n",
       "    </tr>\n",
       "    <tr>\n",
       "      <th>25%</th>\n",
       "      <td>27.000000</td>\n",
       "      <td>26.290000</td>\n",
       "      <td>0.000000</td>\n",
       "      <td>4746.344000</td>\n",
       "    </tr>\n",
       "    <tr>\n",
       "      <th>50%</th>\n",
       "      <td>39.000000</td>\n",
       "      <td>30.400000</td>\n",
       "      <td>1.000000</td>\n",
       "      <td>9386.161300</td>\n",
       "    </tr>\n",
       "    <tr>\n",
       "      <th>75%</th>\n",
       "      <td>51.000000</td>\n",
       "      <td>34.700000</td>\n",
       "      <td>2.000000</td>\n",
       "      <td>16657.717450</td>\n",
       "    </tr>\n",
       "    <tr>\n",
       "      <th>max</th>\n",
       "      <td>64.000000</td>\n",
       "      <td>47.315000</td>\n",
       "      <td>5.000000</td>\n",
       "      <td>34524.777625</td>\n",
       "    </tr>\n",
       "  </tbody>\n",
       "</table>\n",
       "</div>"
      ],
      "text/plain": [
       "               age          bmi     children       charges\n",
       "count  1337.000000  1337.000000  1337.000000   1337.000000\n",
       "mean     39.222139    30.650247     1.095737  12491.159952\n",
       "std      14.044333     6.059655     1.205571  10165.511950\n",
       "min      18.000000    15.960000     0.000000   1121.873900\n",
       "25%      27.000000    26.290000     0.000000   4746.344000\n",
       "50%      39.000000    30.400000     1.000000   9386.161300\n",
       "75%      51.000000    34.700000     2.000000  16657.717450\n",
       "max      64.000000    47.315000     5.000000  34524.777625"
      ]
     },
     "execution_count": 2166,
     "metadata": {},
     "output_type": "execute_result"
    }
   ],
   "source": [
    "df.describe()"
   ]
  },
  {
   "cell_type": "code",
   "execution_count": 2167,
   "id": "552b68dd",
   "metadata": {},
   "outputs": [
    {
     "data": {
      "text/plain": [
       "<Axes: >"
      ]
     },
     "execution_count": 2167,
     "metadata": {},
     "output_type": "execute_result"
    },
    {
     "data": {
      "image/png": "[encoded data removed]",
      "text/plain": [
       "<Figure size 640x480 with 1 Axes>"
      ]
     },
     "metadata": {},
     "output_type": "display_data"
    }
   ],
   "source": [
    "sns.boxplot(df['charges'])"
   ]
  },
  {
   "cell_type": "code",
   "execution_count": 2168,
   "id": "a8cefe58",
   "metadata": {},
   "outputs": [
    {
     "name": "stdout",
     "output_type": "stream",
     "text": [
      "Index(['age', 'bmi', 'children', 'charges'], dtype='object')\n"
     ]
    },
    {
     "data": {
      "image/png": "[encoded data removed]",
      "text/plain": [
       "<Figure size 2200x800 with 4 Axes>"
      ]
     },
     "metadata": {},
     "output_type": "display_data"
    }
   ],
   "source": [
    "# Check for outliers\n",
    "numaric_cols=df.select_dtypes(include=['number']).columns\n",
    "print(numaric_cols)\n",
    "   \n",
    "temp=1\n",
    "plt.figure(figsize=(22,8))\n",
    "for i in numaric_cols:\n",
    "    plt.subplot(1,4,temp)\n",
    "    plt.ylabel(i,fontsize=12,color='Red')\n",
    "    sns.boxplot(df[i])\n",
    "    temp=temp+1\n",
    "plt.show()"
   ]
  },
  {
   "cell_type": "code",
   "execution_count": 2169,
   "id": "2302db93",
   "metadata": {},
   "outputs": [
    {
     "data": {
      "text/html": [
       "<div>\n",
       "<style scoped>\n",
       "    .dataframe tbody tr th:only-of-type {\n",
       "        vertical-align: middle;\n",
       "    }\n",
       "\n",
       "    .dataframe tbody tr th {\n",
       "        vertical-align: top;\n",
       "    }\n",
       "\n",
       "    .dataframe thead th {\n",
       "        text-align: right;\n",
       "    }\n",
       "</style>\n",
       "<table border=\"1\" class=\"dataframe\">\n",
       "  <thead>\n",
       "    <tr style=\"text-align: right;\">\n",
       "      <th></th>\n",
       "      <th>age</th>\n",
       "      <th>sex</th>\n",
       "      <th>bmi</th>\n",
       "      <th>children</th>\n",
       "      <th>smoker</th>\n",
       "      <th>region</th>\n",
       "      <th>charges</th>\n",
       "    </tr>\n",
       "  </thead>\n",
       "  <tbody>\n",
       "    <tr>\n",
       "      <th>0</th>\n",
       "      <td>19</td>\n",
       "      <td>female</td>\n",
       "      <td>27.900</td>\n",
       "      <td>0</td>\n",
       "      <td>yes</td>\n",
       "      <td>southwest</td>\n",
       "      <td>16884.92400</td>\n",
       "    </tr>\n",
       "    <tr>\n",
       "      <th>1</th>\n",
       "      <td>18</td>\n",
       "      <td>male</td>\n",
       "      <td>33.770</td>\n",
       "      <td>1</td>\n",
       "      <td>no</td>\n",
       "      <td>southeast</td>\n",
       "      <td>1725.55230</td>\n",
       "    </tr>\n",
       "    <tr>\n",
       "      <th>2</th>\n",
       "      <td>28</td>\n",
       "      <td>male</td>\n",
       "      <td>33.000</td>\n",
       "      <td>3</td>\n",
       "      <td>no</td>\n",
       "      <td>southeast</td>\n",
       "      <td>4449.46200</td>\n",
       "    </tr>\n",
       "    <tr>\n",
       "      <th>3</th>\n",
       "      <td>33</td>\n",
       "      <td>male</td>\n",
       "      <td>22.705</td>\n",
       "      <td>0</td>\n",
       "      <td>no</td>\n",
       "      <td>northwest</td>\n",
       "      <td>21984.47061</td>\n",
       "    </tr>\n",
       "    <tr>\n",
       "      <th>4</th>\n",
       "      <td>32</td>\n",
       "      <td>male</td>\n",
       "      <td>28.880</td>\n",
       "      <td>0</td>\n",
       "      <td>no</td>\n",
       "      <td>northwest</td>\n",
       "      <td>3866.85520</td>\n",
       "    </tr>\n",
       "  </tbody>\n",
       "</table>\n",
       "</div>"
      ],
      "text/plain": [
       "   age     sex     bmi  children smoker     region      charges\n",
       "0   19  female  27.900         0    yes  southwest  16884.92400\n",
       "1   18    male  33.770         1     no  southeast   1725.55230\n",
       "2   28    male  33.000         3     no  southeast   4449.46200\n",
       "3   33    male  22.705         0     no  northwest  21984.47061\n",
       "4   32    male  28.880         0     no  northwest   3866.85520"
      ]
     },
     "execution_count": 2169,
     "metadata": {},
     "output_type": "execute_result"
    }
   ],
   "source": [
    "df.head()"
   ]
  },
  {
   "cell_type": "code",
   "execution_count": 2170,
   "id": "9cf3e393",
   "metadata": {},
   "outputs": [
    {
     "data": {
      "text/html": [
       "<div>\n",
       "<style scoped>\n",
       "    .dataframe tbody tr th:only-of-type {\n",
       "        vertical-align: middle;\n",
       "    }\n",
       "\n",
       "    .dataframe tbody tr th {\n",
       "        vertical-align: top;\n",
       "    }\n",
       "\n",
       "    .dataframe thead th {\n",
       "        text-align: right;\n",
       "    }\n",
       "</style>\n",
       "<table border=\"1\" class=\"dataframe\">\n",
       "  <thead>\n",
       "    <tr style=\"text-align: right;\">\n",
       "      <th></th>\n",
       "      <th>age</th>\n",
       "      <th>bmi</th>\n",
       "      <th>children</th>\n",
       "      <th>charges</th>\n",
       "    </tr>\n",
       "  </thead>\n",
       "  <tbody>\n",
       "    <tr>\n",
       "      <th>age</th>\n",
       "      <td>1.000000</td>\n",
       "      <td>0.111998</td>\n",
       "      <td>0.041536</td>\n",
       "      <td>0.312423</td>\n",
       "    </tr>\n",
       "    <tr>\n",
       "      <th>bmi</th>\n",
       "      <td>0.111998</td>\n",
       "      <td>1.000000</td>\n",
       "      <td>0.013692</td>\n",
       "      <td>0.161220</td>\n",
       "    </tr>\n",
       "    <tr>\n",
       "      <th>children</th>\n",
       "      <td>0.041536</td>\n",
       "      <td>0.013692</td>\n",
       "      <td>1.000000</td>\n",
       "      <td>0.072372</td>\n",
       "    </tr>\n",
       "    <tr>\n",
       "      <th>charges</th>\n",
       "      <td>0.312423</td>\n",
       "      <td>0.161220</td>\n",
       "      <td>0.072372</td>\n",
       "      <td>1.000000</td>\n",
       "    </tr>\n",
       "  </tbody>\n",
       "</table>\n",
       "</div>"
      ],
      "text/plain": [
       "               age       bmi  children   charges\n",
       "age       1.000000  0.111998  0.041536  0.312423\n",
       "bmi       0.111998  1.000000  0.013692  0.161220\n",
       "children  0.041536  0.013692  1.000000  0.072372\n",
       "charges   0.312423  0.161220  0.072372  1.000000"
      ]
     },
     "execution_count": 2170,
     "metadata": {},
     "output_type": "execute_result"
    }
   ],
   "source": [
    "# Check the correlation between the columns\n",
    "\n",
    "cor_matrix=df.corr(numeric_only=True)\n",
    "cor_matrix"
   ]
  },
  {
   "cell_type": "code",
   "execution_count": 2171,
   "id": "392cd552",
   "metadata": {},
   "outputs": [
    {
     "data": {
      "text/plain": [
       "age         0.312423\n",
       "bmi         0.161220\n",
       "children    0.072372\n",
       "charges     1.000000\n",
       "Name: charges, dtype: float64"
      ]
     },
     "execution_count": 2171,
     "metadata": {},
     "output_type": "execute_result"
    }
   ],
   "source": [
    "cor_matrix['charges']"
   ]
  },
  {
   "cell_type": "code",
   "execution_count": 2172,
   "id": "b11950b0",
   "metadata": {},
   "outputs": [
    {
     "data": {
      "image/png": "[encoded data removed]",
      "text/plain": [
       "<Figure size 640x480 with 2 Axes>"
      ]
     },
     "metadata": {},
     "output_type": "display_data"
    }
   ],
   "source": [
    "sns.heatmap(df.corr(numeric_only=True),annot=True)\n",
    "plt.show()"
   ]
  },
  {
   "cell_type": "code",
   "execution_count": 2173,
   "id": "2965e7c7",
   "metadata": {},
   "outputs": [
    {
     "data": {
      "text/html": [
       "<div>\n",
       "<style scoped>\n",
       "    .dataframe tbody tr th:only-of-type {\n",
       "        vertical-align: middle;\n",
       "    }\n",
       "\n",
       "    .dataframe tbody tr th {\n",
       "        vertical-align: top;\n",
       "    }\n",
       "\n",
       "    .dataframe thead th {\n",
       "        text-align: right;\n",
       "    }\n",
       "</style>\n",
       "<table border=\"1\" class=\"dataframe\">\n",
       "  <thead>\n",
       "    <tr style=\"text-align: right;\">\n",
       "      <th></th>\n",
       "      <th>total_charges</th>\n",
       "    </tr>\n",
       "    <tr>\n",
       "      <th>region</th>\n",
       "      <th></th>\n",
       "    </tr>\n",
       "  </thead>\n",
       "  <tbody>\n",
       "    <tr>\n",
       "      <th>northeast</th>\n",
       "      <td>4.144628e+06</td>\n",
       "    </tr>\n",
       "    <tr>\n",
       "      <th>northwest</th>\n",
       "      <td>3.849752e+06</td>\n",
       "    </tr>\n",
       "    <tr>\n",
       "      <th>southeast</th>\n",
       "      <td>4.907217e+06</td>\n",
       "    </tr>\n",
       "    <tr>\n",
       "      <th>southwest</th>\n",
       "      <td>3.799085e+06</td>\n",
       "    </tr>\n",
       "  </tbody>\n",
       "</table>\n",
       "</div>"
      ],
      "text/plain": [
       "           total_charges\n",
       "region                  \n",
       "northeast   4.144628e+06\n",
       "northwest   3.849752e+06\n",
       "southeast   4.907217e+06\n",
       "southwest   3.799085e+06"
      ]
     },
     "execution_count": 2173,
     "metadata": {},
     "output_type": "execute_result"
    }
   ],
   "source": [
    "# Check the categorical columns effecting the target variable charges or not\n",
    "\n",
    "df_group=df.groupby('region').aggregate(total_charges=('charges',np.sum))\n",
    "df_group"
   ]
  },
  {
   "cell_type": "code",
   "execution_count": 2174,
   "id": "fbf88842",
   "metadata": {},
   "outputs": [
    {
     "data": {
      "image/png": "[encoded data removed]",
      "text/plain": [
       "<Figure size 640x480 with 1 Axes>"
      ]
     },
     "metadata": {},
     "output_type": "display_data"
    }
   ],
   "source": [
    "sns.barplot(data=df_group,x=df_group.index.values,y=df_group['total_charges'])\n",
    "plt.xlabel('Region')\n",
    "plt.ylabel('Total_charges')\n",
    "plt.show()"
   ]
  },
  {
   "cell_type": "code",
   "execution_count": 2175,
   "id": "60af5d85",
   "metadata": {},
   "outputs": [
    {
     "data": {
      "text/html": [
       "<div>\n",
       "<style scoped>\n",
       "    .dataframe tbody tr th:only-of-type {\n",
       "        vertical-align: middle;\n",
       "    }\n",
       "\n",
       "    .dataframe tbody tr th {\n",
       "        vertical-align: top;\n",
       "    }\n",
       "\n",
       "    .dataframe thead th {\n",
       "        text-align: right;\n",
       "    }\n",
       "</style>\n",
       "<table border=\"1\" class=\"dataframe\">\n",
       "  <thead>\n",
       "    <tr style=\"text-align: right;\">\n",
       "      <th></th>\n",
       "      <th>total_charges</th>\n",
       "    </tr>\n",
       "    <tr>\n",
       "      <th>sex</th>\n",
       "      <th></th>\n",
       "    </tr>\n",
       "  </thead>\n",
       "  <tbody>\n",
       "    <tr>\n",
       "      <th>female</th>\n",
       "      <td>7.907699e+06</td>\n",
       "    </tr>\n",
       "    <tr>\n",
       "      <th>male</th>\n",
       "      <td>8.792982e+06</td>\n",
       "    </tr>\n",
       "  </tbody>\n",
       "</table>\n",
       "</div>"
      ],
      "text/plain": [
       "        total_charges\n",
       "sex                  \n",
       "female   7.907699e+06\n",
       "male     8.792982e+06"
      ]
     },
     "execution_count": 2175,
     "metadata": {},
     "output_type": "execute_result"
    }
   ],
   "source": [
    "df_group_gender=df.groupby('sex').aggregate(total_charges=('charges',np.sum))\n",
    "df_group_gender"
   ]
  },
  {
   "cell_type": "code",
   "execution_count": 2176,
   "id": "2b7a94be",
   "metadata": {},
   "outputs": [
    {
     "data": {
      "image/png": "[encoded data removed]",
      "text/plain": [
       "<Figure size 640x480 with 1 Axes>"
      ]
     },
     "metadata": {},
     "output_type": "display_data"
    }
   ],
   "source": [
    "sns.barplot(data=df_group_gender,x=df_group_gender.index.values,y=df_group_gender['total_charges'])\n",
    "plt.xlabel('Region')\n",
    "plt.ylabel('Total_charges')\n",
    "plt.show()"
   ]
  },
  {
   "cell_type": "code",
   "execution_count": 2177,
   "id": "3f66ae25",
   "metadata": {},
   "outputs": [],
   "source": [
    "# From above graphs we decided that region, chidren and sex columns are not effecting the premium price"
   ]
  },
  {
   "cell_type": "code",
   "execution_count": 2178,
   "id": "2751bc33",
   "metadata": {},
   "outputs": [],
   "source": [
    "df.drop(columns=['region','children','sex'],inplace=True)"
   ]
  },
  {
   "cell_type": "code",
   "execution_count": 2179,
   "id": "96662152",
   "metadata": {},
   "outputs": [
    {
     "data": {
      "text/html": [
       "<div>\n",
       "<style scoped>\n",
       "    .dataframe tbody tr th:only-of-type {\n",
       "        vertical-align: middle;\n",
       "    }\n",
       "\n",
       "    .dataframe tbody tr th {\n",
       "        vertical-align: top;\n",
       "    }\n",
       "\n",
       "    .dataframe thead th {\n",
       "        text-align: right;\n",
       "    }\n",
       "</style>\n",
       "<table border=\"1\" class=\"dataframe\">\n",
       "  <thead>\n",
       "    <tr style=\"text-align: right;\">\n",
       "      <th></th>\n",
       "      <th>age</th>\n",
       "      <th>bmi</th>\n",
       "      <th>smoker</th>\n",
       "      <th>charges</th>\n",
       "    </tr>\n",
       "  </thead>\n",
       "  <tbody>\n",
       "    <tr>\n",
       "      <th>0</th>\n",
       "      <td>19</td>\n",
       "      <td>27.900</td>\n",
       "      <td>yes</td>\n",
       "      <td>16884.92400</td>\n",
       "    </tr>\n",
       "    <tr>\n",
       "      <th>1</th>\n",
       "      <td>18</td>\n",
       "      <td>33.770</td>\n",
       "      <td>no</td>\n",
       "      <td>1725.55230</td>\n",
       "    </tr>\n",
       "    <tr>\n",
       "      <th>2</th>\n",
       "      <td>28</td>\n",
       "      <td>33.000</td>\n",
       "      <td>no</td>\n",
       "      <td>4449.46200</td>\n",
       "    </tr>\n",
       "    <tr>\n",
       "      <th>3</th>\n",
       "      <td>33</td>\n",
       "      <td>22.705</td>\n",
       "      <td>no</td>\n",
       "      <td>21984.47061</td>\n",
       "    </tr>\n",
       "    <tr>\n",
       "      <th>4</th>\n",
       "      <td>32</td>\n",
       "      <td>28.880</td>\n",
       "      <td>no</td>\n",
       "      <td>3866.85520</td>\n",
       "    </tr>\n",
       "  </tbody>\n",
       "</table>\n",
       "</div>"
      ],
      "text/plain": [
       "   age     bmi smoker      charges\n",
       "0   19  27.900    yes  16884.92400\n",
       "1   18  33.770     no   1725.55230\n",
       "2   28  33.000     no   4449.46200\n",
       "3   33  22.705     no  21984.47061\n",
       "4   32  28.880     no   3866.85520"
      ]
     },
     "execution_count": 2179,
     "metadata": {},
     "output_type": "execute_result"
    }
   ],
   "source": [
    "df.head()"
   ]
  },
  {
   "cell_type": "code",
   "execution_count": 2180,
   "id": "dde5049e",
   "metadata": {},
   "outputs": [],
   "source": [
    "# Perform Feature Engineering"
   ]
  },
  {
   "cell_type": "code",
   "execution_count": 2181,
   "id": "f44231a0",
   "metadata": {},
   "outputs": [],
   "source": [
    "# Future scaling(Numarical data)\n",
    "#1.Standardization(If our data is Normally distributed means distribution is known). it is less sensitive to outliers\n",
    "#2.Normalization(if the distribution is unknown)"
   ]
  },
  {
   "cell_type": "code",
   "execution_count": 2182,
   "id": "e18b963f",
   "metadata": {},
   "outputs": [
    {
     "data": {
      "text/plain": [
       "Index(['age', 'bmi', 'charges'], dtype='object')"
      ]
     },
     "execution_count": 2182,
     "metadata": {},
     "output_type": "execute_result"
    }
   ],
   "source": [
    "numeric_cols=df.select_dtypes(include=['number']).columns\n",
    "numeric_cols"
   ]
  },
  {
   "cell_type": "code",
   "execution_count": 2183,
   "id": "a00bde3a",
   "metadata": {},
   "outputs": [
    {
     "data": {
      "text/plain": [
       "Index(['smoker'], dtype='object')"
      ]
     },
     "execution_count": 2183,
     "metadata": {},
     "output_type": "execute_result"
    }
   ],
   "source": [
    "non_numeric_cols=df.select_dtypes(exclude=['number']).columns\n",
    "non_numeric_cols"
   ]
  },
  {
   "cell_type": "code",
   "execution_count": 2184,
   "id": "13428072",
   "metadata": {},
   "outputs": [
    {
     "data": {
      "image/png": "[encoded data removed]",
      "text/plain": [
       "<Figure size 1500x500 with 3 Axes>"
      ]
     },
     "metadata": {},
     "output_type": "display_data"
    }
   ],
   "source": [
    "temp=1\n",
    "plt.figure(figsize=(15,5))\n",
    "for i in numeric_cols:\n",
    "    plt.subplot(1,3,temp)\n",
    "    sns.kdeplot(df[i])\n",
    "    temp=temp+1\n",
    "plt.show()"
   ]
  },
  {
   "cell_type": "code",
   "execution_count": 2185,
   "id": "e30e8470",
   "metadata": {},
   "outputs": [],
   "source": [
    "from sklearn.preprocessing import StandardScaler,MinMaxScaler\n",
    "scaler1=StandardScaler()\n",
    "scaler2=MinMaxScaler()"
   ]
  },
  {
   "cell_type": "code",
   "execution_count": 2186,
   "id": "c11c5ff2",
   "metadata": {},
   "outputs": [
    {
     "data": {
      "text/html": [
       "<div>\n",
       "<style scoped>\n",
       "    .dataframe tbody tr th:only-of-type {\n",
       "        vertical-align: middle;\n",
       "    }\n",
       "\n",
       "    .dataframe tbody tr th {\n",
       "        vertical-align: top;\n",
       "    }\n",
       "\n",
       "    .dataframe thead th {\n",
       "        text-align: right;\n",
       "    }\n",
       "</style>\n",
       "<table border=\"1\" class=\"dataframe\">\n",
       "  <thead>\n",
       "    <tr style=\"text-align: right;\">\n",
       "      <th></th>\n",
       "      <th>age</th>\n",
       "      <th>bmi</th>\n",
       "      <th>smoker</th>\n",
       "      <th>charges</th>\n",
       "    </tr>\n",
       "  </thead>\n",
       "  <tbody>\n",
       "    <tr>\n",
       "      <th>0</th>\n",
       "      <td>-1.440418</td>\n",
       "      <td>-0.454032</td>\n",
       "      <td>yes</td>\n",
       "      <td>0.432384</td>\n",
       "    </tr>\n",
       "    <tr>\n",
       "      <th>1</th>\n",
       "      <td>-1.511647</td>\n",
       "      <td>0.515033</td>\n",
       "      <td>no</td>\n",
       "      <td>-1.059429</td>\n",
       "    </tr>\n",
       "    <tr>\n",
       "      <th>2</th>\n",
       "      <td>-0.799350</td>\n",
       "      <td>0.387915</td>\n",
       "      <td>no</td>\n",
       "      <td>-0.791373</td>\n",
       "    </tr>\n",
       "    <tr>\n",
       "      <th>3</th>\n",
       "      <td>-0.443201</td>\n",
       "      <td>-1.311662</td>\n",
       "      <td>no</td>\n",
       "      <td>0.934224</td>\n",
       "    </tr>\n",
       "    <tr>\n",
       "      <th>4</th>\n",
       "      <td>-0.514431</td>\n",
       "      <td>-0.292246</td>\n",
       "      <td>no</td>\n",
       "      <td>-0.848706</td>\n",
       "    </tr>\n",
       "  </tbody>\n",
       "</table>\n",
       "</div>"
      ],
      "text/plain": [
       "        age       bmi smoker   charges\n",
       "0 -1.440418 -0.454032    yes  0.432384\n",
       "1 -1.511647  0.515033     no -1.059429\n",
       "2 -0.799350  0.387915     no -0.791373\n",
       "3 -0.443201 -1.311662     no  0.934224\n",
       "4 -0.514431 -0.292246     no -0.848706"
      ]
     },
     "execution_count": 2186,
     "metadata": {},
     "output_type": "execute_result"
    }
   ],
   "source": [
    "df[numeric_cols]=scaler1.fit_transform(df[numeric_cols])\n",
    "df.head()"
   ]
  },
  {
   "cell_type": "code",
   "execution_count": 2187,
   "id": "57d0e1d7",
   "metadata": {},
   "outputs": [],
   "source": [
    "# Minmax_numeric=pd.DataFrame(scaler2.fit_transform(df[numeric_cols]),columns=numeric_cols)\n",
    "# Minmax_numeric.head()"
   ]
  },
  {
   "cell_type": "code",
   "execution_count": 2188,
   "id": "c663f901",
   "metadata": {},
   "outputs": [],
   "source": [
    "## Feature Encoding(On categorical data)\n",
    "#1. Label Encoding: Where order is not imp for nominal data\n",
    "#2. ordinal Encoding:For ordinal data\n",
    "#3. On hot Encoding: Increases the number of features(Curse of dimensionality) and sparase representation(More computational power)"
   ]
  },
  {
   "cell_type": "code",
   "execution_count": 2189,
   "id": "ce728440",
   "metadata": {},
   "outputs": [
    {
     "data": {
      "text/html": [
       "<div>\n",
       "<style scoped>\n",
       "    .dataframe tbody tr th:only-of-type {\n",
       "        vertical-align: middle;\n",
       "    }\n",
       "\n",
       "    .dataframe tbody tr th {\n",
       "        vertical-align: top;\n",
       "    }\n",
       "\n",
       "    .dataframe thead th {\n",
       "        text-align: right;\n",
       "    }\n",
       "</style>\n",
       "<table border=\"1\" class=\"dataframe\">\n",
       "  <thead>\n",
       "    <tr style=\"text-align: right;\">\n",
       "      <th></th>\n",
       "      <th>age</th>\n",
       "      <th>bmi</th>\n",
       "      <th>smoker</th>\n",
       "      <th>charges</th>\n",
       "    </tr>\n",
       "  </thead>\n",
       "  <tbody>\n",
       "    <tr>\n",
       "      <th>0</th>\n",
       "      <td>-1.440418</td>\n",
       "      <td>-0.454032</td>\n",
       "      <td>1</td>\n",
       "      <td>0.432384</td>\n",
       "    </tr>\n",
       "    <tr>\n",
       "      <th>1</th>\n",
       "      <td>-1.511647</td>\n",
       "      <td>0.515033</td>\n",
       "      <td>0</td>\n",
       "      <td>-1.059429</td>\n",
       "    </tr>\n",
       "    <tr>\n",
       "      <th>2</th>\n",
       "      <td>-0.799350</td>\n",
       "      <td>0.387915</td>\n",
       "      <td>0</td>\n",
       "      <td>-0.791373</td>\n",
       "    </tr>\n",
       "    <tr>\n",
       "      <th>3</th>\n",
       "      <td>-0.443201</td>\n",
       "      <td>-1.311662</td>\n",
       "      <td>0</td>\n",
       "      <td>0.934224</td>\n",
       "    </tr>\n",
       "    <tr>\n",
       "      <th>4</th>\n",
       "      <td>-0.514431</td>\n",
       "      <td>-0.292246</td>\n",
       "      <td>0</td>\n",
       "      <td>-0.848706</td>\n",
       "    </tr>\n",
       "    <tr>\n",
       "      <th>...</th>\n",
       "      <td>...</td>\n",
       "      <td>...</td>\n",
       "      <td>...</td>\n",
       "      <td>...</td>\n",
       "    </tr>\n",
       "    <tr>\n",
       "      <th>1333</th>\n",
       "      <td>0.767704</td>\n",
       "      <td>0.052787</td>\n",
       "      <td>0</td>\n",
       "      <td>-0.186053</td>\n",
       "    </tr>\n",
       "    <tr>\n",
       "      <th>1334</th>\n",
       "      <td>-1.511647</td>\n",
       "      <td>0.209621</td>\n",
       "      <td>0</td>\n",
       "      <td>-1.012150</td>\n",
       "    </tr>\n",
       "    <tr>\n",
       "      <th>1335</th>\n",
       "      <td>-1.511647</td>\n",
       "      <td>1.023503</td>\n",
       "      <td>0</td>\n",
       "      <td>-1.068848</td>\n",
       "    </tr>\n",
       "    <tr>\n",
       "      <th>1336</th>\n",
       "      <td>-1.297958</td>\n",
       "      <td>-0.800716</td>\n",
       "      <td>0</td>\n",
       "      <td>-1.031639</td>\n",
       "    </tr>\n",
       "    <tr>\n",
       "      <th>1337</th>\n",
       "      <td>1.551231</td>\n",
       "      <td>-0.260879</td>\n",
       "      <td>1</td>\n",
       "      <td>1.638524</td>\n",
       "    </tr>\n",
       "  </tbody>\n",
       "</table>\n",
       "<p>1337 rows × 4 columns</p>\n",
       "</div>"
      ],
      "text/plain": [
       "           age       bmi  smoker   charges\n",
       "0    -1.440418 -0.454032       1  0.432384\n",
       "1    -1.511647  0.515033       0 -1.059429\n",
       "2    -0.799350  0.387915       0 -0.791373\n",
       "3    -0.443201 -1.311662       0  0.934224\n",
       "4    -0.514431 -0.292246       0 -0.848706\n",
       "...        ...       ...     ...       ...\n",
       "1333  0.767704  0.052787       0 -0.186053\n",
       "1334 -1.511647  0.209621       0 -1.012150\n",
       "1335 -1.511647  1.023503       0 -1.068848\n",
       "1336 -1.297958 -0.800716       0 -1.031639\n",
       "1337  1.551231 -0.260879       1  1.638524\n",
       "\n",
       "[1337 rows x 4 columns]"
      ]
     },
     "execution_count": 2189,
     "metadata": {},
     "output_type": "execute_result"
    }
   ],
   "source": [
    "from sklearn.preprocessing import LabelEncoder\n",
    "le=LabelEncoder()\n",
    "\n",
    "df['smoker']=le.fit_transform(df['smoker'])\n",
    "df"
   ]
  },
  {
   "cell_type": "code",
   "execution_count": 2190,
   "id": "006fd109",
   "metadata": {},
   "outputs": [
    {
     "data": {
      "text/plain": [
       "array(['no', 'yes'], dtype=object)"
      ]
     },
     "execution_count": 2190,
     "metadata": {},
     "output_type": "execute_result"
    }
   ],
   "source": [
    "le.classes_"
   ]
  },
  {
   "cell_type": "code",
   "execution_count": 2191,
   "id": "48fbb80c",
   "metadata": {},
   "outputs": [],
   "source": [
    "# from sklearn.preprocessing import OrdinalEncoder\n",
    "# oe=OrdinalEncoder()\n",
    "# cat_order=[['A','B','C']]\n",
    "# oe=OrdinalEncoder(categories=cat_order)\n",
    "# df['non_numeric_column']=oe.fit_transform(df['non_numeric_column'])\n",
    "# df"
   ]
  },
  {
   "cell_type": "code",
   "execution_count": 2192,
   "id": "69057de8",
   "metadata": {},
   "outputs": [
    {
     "data": {
      "text/html": [
       "<div>\n",
       "<style scoped>\n",
       "    .dataframe tbody tr th:only-of-type {\n",
       "        vertical-align: middle;\n",
       "    }\n",
       "\n",
       "    .dataframe tbody tr th {\n",
       "        vertical-align: top;\n",
       "    }\n",
       "\n",
       "    .dataframe thead th {\n",
       "        text-align: right;\n",
       "    }\n",
       "</style>\n",
       "<table border=\"1\" class=\"dataframe\">\n",
       "  <thead>\n",
       "    <tr style=\"text-align: right;\">\n",
       "      <th></th>\n",
       "      <th>age</th>\n",
       "      <th>bmi</th>\n",
       "      <th>smoker</th>\n",
       "      <th>charges</th>\n",
       "    </tr>\n",
       "  </thead>\n",
       "  <tbody>\n",
       "    <tr>\n",
       "      <th>0</th>\n",
       "      <td>-1.440418</td>\n",
       "      <td>-0.454032</td>\n",
       "      <td>1</td>\n",
       "      <td>0.432384</td>\n",
       "    </tr>\n",
       "    <tr>\n",
       "      <th>1</th>\n",
       "      <td>-1.511647</td>\n",
       "      <td>0.515033</td>\n",
       "      <td>0</td>\n",
       "      <td>-1.059429</td>\n",
       "    </tr>\n",
       "    <tr>\n",
       "      <th>2</th>\n",
       "      <td>-0.799350</td>\n",
       "      <td>0.387915</td>\n",
       "      <td>0</td>\n",
       "      <td>-0.791373</td>\n",
       "    </tr>\n",
       "    <tr>\n",
       "      <th>3</th>\n",
       "      <td>-0.443201</td>\n",
       "      <td>-1.311662</td>\n",
       "      <td>0</td>\n",
       "      <td>0.934224</td>\n",
       "    </tr>\n",
       "    <tr>\n",
       "      <th>4</th>\n",
       "      <td>-0.514431</td>\n",
       "      <td>-0.292246</td>\n",
       "      <td>0</td>\n",
       "      <td>-0.848706</td>\n",
       "    </tr>\n",
       "  </tbody>\n",
       "</table>\n",
       "</div>"
      ],
      "text/plain": [
       "        age       bmi  smoker   charges\n",
       "0 -1.440418 -0.454032       1  0.432384\n",
       "1 -1.511647  0.515033       0 -1.059429\n",
       "2 -0.799350  0.387915       0 -0.791373\n",
       "3 -0.443201 -1.311662       0  0.934224\n",
       "4 -0.514431 -0.292246       0 -0.848706"
      ]
     },
     "execution_count": 2192,
     "metadata": {},
     "output_type": "execute_result"
    }
   ],
   "source": [
    "df.head()"
   ]
  },
  {
   "cell_type": "code",
   "execution_count": 2193,
   "id": "45a49c95",
   "metadata": {},
   "outputs": [],
   "source": [
    "from sklearn.model_selection import train_test_split\n",
    "\n",
    "x=df.drop(columns='charges')\n",
    "y=df['charges']\n",
    "\n",
    "x_train,x_test,y_train,y_test=train_test_split(x,y,test_size=0.2,random_state=42)"
   ]
  },
  {
   "cell_type": "code",
   "execution_count": 2194,
   "id": "4f3193d9",
   "metadata": {},
   "outputs": [
    {
     "data": {
      "text/plain": [
       "(1069, 3)"
      ]
     },
     "execution_count": 2194,
     "metadata": {},
     "output_type": "execute_result"
    }
   ],
   "source": [
    "x_train.shape"
   ]
  },
  {
   "cell_type": "code",
   "execution_count": 2195,
   "id": "540f9d55",
   "metadata": {},
   "outputs": [
    {
     "data": {
      "text/html": [
       "<style>#sk-container-id-31 {color: black;}#sk-container-id-31 pre{padding: 0;}#sk-container-id-31 div.sk-toggleable {background-color: white;}#sk-container-id-31 label.sk-toggleable__label {cursor: pointer;display: block;width: 100%;margin-bottom: 0;padding: 0.3em;box-sizing: border-box;text-align: center;}#sk-container-id-31 label.sk-toggleable__label-arrow:before {content: \"▸\";float: left;margin-right: 0.25em;color: #696969;}#sk-container-id-31 label.sk-toggleable__label-arrow:hover:before {color: black;}#sk-container-id-31 div.sk-estimator:hover label.sk-toggleable__label-arrow:before {color: black;}#sk-container-id-31 div.sk-toggleable__content {max-height: 0;max-width: 0;overflow: hidden;text-align: left;background-color: #f0f8ff;}#sk-container-id-31 div.sk-toggleable__content pre {margin: 0.2em;color: black;border-radius: 0.25em;background-color: #f0f8ff;}#sk-container-id-31 input.sk-toggleable__control:checked~div.sk-toggleable__content {max-height: 200px;max-width: 100%;overflow: auto;}#sk-container-id-31 input.sk-toggleable__control:checked~label.sk-toggleable__label-arrow:before {content: \"▾\";}#sk-container-id-31 div.sk-estimator input.sk-toggleable__control:checked~label.sk-toggleable__label {background-color: #d4ebff;}#sk-container-id-31 div.sk-label input.sk-toggleable__control:checked~label.sk-toggleable__label {background-color: #d4ebff;}#sk-container-id-31 input.sk-hidden--visually {border: 0;clip: rect(1px 1px 1px 1px);clip: rect(1px, 1px, 1px, 1px);height: 1px;margin: -1px;overflow: hidden;padding: 0;position: absolute;width: 1px;}#sk-container-id-31 div.sk-estimator {font-family: monospace;background-color: #f0f8ff;border: 1px dotted black;border-radius: 0.25em;box-sizing: border-box;margin-bottom: 0.5em;}#sk-container-id-31 div.sk-estimator:hover {background-color: #d4ebff;}#sk-container-id-31 div.sk-parallel-item::after {content: \"\";width: 100%;border-bottom: 1px solid gray;flex-grow: 1;}#sk-container-id-31 div.sk-label:hover label.sk-toggleable__label {background-color: #d4ebff;}#sk-container-id-31 div.sk-serial::before {content: \"\";position: absolute;border-left: 1px solid gray;box-sizing: border-box;top: 0;bottom: 0;left: 50%;z-index: 0;}#sk-container-id-31 div.sk-serial {display: flex;flex-direction: column;align-items: center;background-color: white;padding-right: 0.2em;padding-left: 0.2em;position: relative;}#sk-container-id-31 div.sk-item {position: relative;z-index: 1;}#sk-container-id-31 div.sk-parallel {display: flex;align-items: stretch;justify-content: center;background-color: white;position: relative;}#sk-container-id-31 div.sk-item::before, #sk-container-id-31 div.sk-parallel-item::before {content: \"\";position: absolute;border-left: 1px solid gray;box-sizing: border-box;top: 0;bottom: 0;left: 50%;z-index: -1;}#sk-container-id-31 div.sk-parallel-item {display: flex;flex-direction: column;z-index: 1;position: relative;background-color: white;}#sk-container-id-31 div.sk-parallel-item:first-child::after {align-self: flex-end;width: 50%;}#sk-container-id-31 div.sk-parallel-item:last-child::after {align-self: flex-start;width: 50%;}#sk-container-id-31 div.sk-parallel-item:only-child::after {width: 0;}#sk-container-id-31 div.sk-dashed-wrapped {border: 1px dashed gray;margin: 0 0.4em 0.5em 0.4em;box-sizing: border-box;padding-bottom: 0.4em;background-color: white;}#sk-container-id-31 div.sk-label label {font-family: monospace;font-weight: bold;display: inline-block;line-height: 1.2em;}#sk-container-id-31 div.sk-label-container {text-align: center;}#sk-container-id-31 div.sk-container {/* jupyter's `normalize.less` sets `[hidden] { display: none; }` but bootstrap.min.css set `[hidden] { display: none !important; }` so we also need the `!important` here to be able to override the default hidden behavior on the sphinx rendered scikit-learn.org. See: https://github.com/scikit-learn/scikit-learn/issues/21755 */display: inline-block !important;position: relative;}#sk-container-id-31 div.sk-text-repr-fallback {display: none;}</style><div id=\"sk-container-id-31\" class=\"sk-top-container\"><div class=\"sk-text-repr-fallback\"><pre>LinearRegression()</pre><b>In a Jupyter environment, please rerun this cell to show the HTML representation or trust the notebook. <br />On GitHub, the HTML representation is unable to render, please try loading this page with nbviewer.org.</b></div><div class=\"sk-container\" hidden><div class=\"sk-item\"><div class=\"sk-estimator sk-toggleable\"><input class=\"sk-toggleable__control sk-hidden--visually\" id=\"sk-estimator-id-31\" type=\"checkbox\" checked><label for=\"sk-estimator-id-31\" class=\"sk-toggleable__label sk-toggleable__label-arrow\">LinearRegression</label><div class=\"sk-toggleable__content\"><pre>LinearRegression()</pre></div></div></div></div></div>"
      ],
      "text/plain": [
       "LinearRegression()"
      ]
     },
     "execution_count": 2195,
     "metadata": {},
     "output_type": "execute_result"
    }
   ],
   "source": [
    "from sklearn.linear_model import LinearRegression\n",
    "model=LinearRegression()\n",
    "\n",
    "model.fit(x_train,y_train)"
   ]
  },
  {
   "cell_type": "code",
   "execution_count": 2196,
   "id": "3bf9e69b",
   "metadata": {},
   "outputs": [
    {
     "data": {
      "text/plain": [
       "array([-0.88353219, -0.9033979 ,  0.0257001 , ..., -1.00096583,\n",
       "       -0.47836372, -0.387482  ])"
      ]
     },
     "execution_count": 2196,
     "metadata": {},
     "output_type": "execute_result"
    }
   ],
   "source": [
    "y_train_pred=model.predict(x_train)\n",
    "y_train_pred"
   ]
  },
  {
   "cell_type": "code",
   "execution_count": 2197,
   "id": "42731153",
   "metadata": {},
   "outputs": [
    {
     "data": {
      "text/plain": [
       "1114   -0.993441\n",
       "968    -0.906471\n",
       "599     2.064693\n",
       "170     0.089968\n",
       "275    -0.273115\n",
       "Name: charges, dtype: float64"
      ]
     },
     "execution_count": 2197,
     "metadata": {},
     "output_type": "execute_result"
    }
   ],
   "source": [
    "y_train.head()"
   ]
  },
  {
   "cell_type": "code",
   "execution_count": 2198,
   "id": "4b1a3a00",
   "metadata": {},
   "outputs": [
    {
     "data": {
      "text/plain": [
       "-0.39782548639281345"
      ]
     },
     "execution_count": 2198,
     "metadata": {},
     "output_type": "execute_result"
    }
   ],
   "source": [
    "model.intercept_"
   ]
  },
  {
   "cell_type": "code",
   "execution_count": 2199,
   "id": "daa44406",
   "metadata": {},
   "outputs": [
    {
     "data": {
      "text/plain": [
       "array([0.31359598, 0.12168245, 1.93263837])"
      ]
     },
     "execution_count": 2199,
     "metadata": {},
     "output_type": "execute_result"
    }
   ],
   "source": [
    "model.coef_"
   ]
  },
  {
   "cell_type": "code",
   "execution_count": 2200,
   "id": "4b5d7fdd",
   "metadata": {},
   "outputs": [
    {
     "data": {
      "text/plain": [
       "(268, 3)"
      ]
     },
     "execution_count": 2200,
     "metadata": {},
     "output_type": "execute_result"
    }
   ],
   "source": [
    "x_test.shape"
   ]
  },
  {
   "cell_type": "code",
   "execution_count": 2201,
   "id": "76e55d74",
   "metadata": {},
   "outputs": [
    {
     "data": {
      "text/plain": [
       "900    -0.374179\n",
       "1064   -0.667436\n",
       "1256   -0.103764\n",
       "298     2.168298\n",
       "237    -0.790020\n",
       "Name: charges, dtype: float64"
      ]
     },
     "execution_count": 2201,
     "metadata": {},
     "output_type": "execute_result"
    }
   ],
   "source": [
    "y_test.head()"
   ]
  },
  {
   "cell_type": "code",
   "execution_count": 2202,
   "id": "586ea86d",
   "metadata": {},
   "outputs": [
    {
     "data": {
      "text/plain": [
       "array([-0.34283691, -0.72761181, -0.01953789,  1.42627716, -0.42600812,\n",
       "       -0.04161331])"
      ]
     },
     "execution_count": 2202,
     "metadata": {},
     "output_type": "execute_result"
    }
   ],
   "source": [
    "y_test_pred=model.predict(x_test)\n",
    "y_test_pred[:6]"
   ]
  },
  {
   "cell_type": "markdown",
   "id": "d4ea8667",
   "metadata": {},
   "source": [
    "## Performance Metrics"
   ]
  },
  {
   "cell_type": "code",
   "execution_count": 2203,
   "id": "67e4de87",
   "metadata": {},
   "outputs": [],
   "source": [
    "# R2 score tells us proportation of variance of depemdent variable/predictor variable from the independent varaibles"
   ]
  },
  {
   "cell_type": "code",
   "execution_count": 2204,
   "id": "302532b6",
   "metadata": {},
   "outputs": [
    {
     "data": {
      "text/plain": [
       "0.8165518569106659"
      ]
     },
     "execution_count": 2204,
     "metadata": {},
     "output_type": "execute_result"
    }
   ],
   "source": [
    "from sklearn.metrics import r2_score\n",
    "r2_test_value=r2_score(y_test,y_test_pred)\n",
    "r2_test_value"
   ]
  },
  {
   "cell_type": "code",
   "execution_count": 2205,
   "id": "1ec11b6b",
   "metadata": {},
   "outputs": [
    {
     "data": {
      "text/plain": [
       "0.7214377255832262"
      ]
     },
     "execution_count": 2205,
     "metadata": {},
     "output_type": "execute_result"
    }
   ],
   "source": [
    "r2_train_value=r2_score(y_train,y_train_pred)\n",
    "r2_train_value"
   ]
  },
  {
   "cell_type": "code",
   "execution_count": 2206,
   "id": "a517da26",
   "metadata": {},
   "outputs": [],
   "source": [
    "# it means 81% premium charges are in variance with independent variables"
   ]
  },
  {
   "cell_type": "code",
   "execution_count": 2207,
   "id": "6c11e61f",
   "metadata": {},
   "outputs": [
    {
     "data": {
      "text/plain": [
       "0.8144672189210144"
      ]
     },
     "execution_count": 2207,
     "metadata": {},
     "output_type": "execute_result"
    }
   ],
   "source": [
    "no_of_test_samples=x_test.shape[0]\n",
    "no_of_test_independent_variables=x_test.shape[1]\n",
    "\n",
    "\n",
    "adjusted_r2_test=1-(1-r2_test_value)*(no_of_test_samples-1)/(no_of_test_samples-no_of_test_independent_variables-1)\n",
    "adjusted_r2_test"
   ]
  },
  {
   "cell_type": "code",
   "execution_count": 2208,
   "id": "cddf9bd6",
   "metadata": {},
   "outputs": [
    {
     "data": {
      "text/plain": [
       "0.7206530431200804"
      ]
     },
     "execution_count": 2208,
     "metadata": {},
     "output_type": "execute_result"
    }
   ],
   "source": [
    "no_of_train_samples=x_train.shape[0]\n",
    "no_of_train_independent_variables=x_train.shape[1]\n",
    "# print(no_of_train_samples,no_of_train_independent_variables)\n",
    "\n",
    "adjusted_r2_train=1-(1-r2_train_value)*(no_of_train_samples-1)/(no_of_train_samples-no_of_train_independent_variables-1)\n",
    "adjusted_r2_train"
   ]
  },
  {
   "cell_type": "code",
   "execution_count": 2209,
   "id": "8c79bf9c",
   "metadata": {},
   "outputs": [
    {
     "data": {
      "text/plain": [
       "0.31152840738228693"
      ]
     },
     "execution_count": 2209,
     "metadata": {},
     "output_type": "execute_result"
    }
   ],
   "source": [
    "from sklearn.metrics import mean_absolute_error\n",
    "test_mae=mean_absolute_error(y_test,y_test_pred)\n",
    "test_mae"
   ]
  },
  {
   "cell_type": "code",
   "execution_count": 2210,
   "id": "3a6ba145",
   "metadata": {},
   "outputs": [
    {
     "data": {
      "text/plain": [
       "0.3427635483712158"
      ]
     },
     "execution_count": 2210,
     "metadata": {},
     "output_type": "execute_result"
    }
   ],
   "source": [
    "train_mae=mean_absolute_error(y_train,y_train_pred)\n",
    "train_mae"
   ]
  },
  {
   "cell_type": "code",
   "execution_count": 2211,
   "id": "fe9941bb",
   "metadata": {},
   "outputs": [
    {
     "data": {
      "text/plain": [
       "0.20759740111742886"
      ]
     },
     "execution_count": 2211,
     "metadata": {},
     "output_type": "execute_result"
    }
   ],
   "source": [
    "from sklearn.metrics import mean_squared_error\n",
    "test_mse=mean_squared_error(y_test,y_test_pred)\n",
    "test_mse"
   ]
  },
  {
   "cell_type": "code",
   "execution_count": 2212,
   "id": "84c4ef17",
   "metadata": {},
   "outputs": [
    {
     "data": {
      "text/plain": [
       "900    -0.374179\n",
       "1064   -0.667436\n",
       "1256   -0.103764\n",
       "298     2.168298\n",
       "237    -0.790020\n",
       "          ...   \n",
       "534     0.131863\n",
       "542     0.137383\n",
       "760    -0.842910\n",
       "1284    2.168298\n",
       "1285   -0.389353\n",
       "Name: charges, Length: 268, dtype: float64"
      ]
     },
     "execution_count": 2212,
     "metadata": {},
     "output_type": "execute_result"
    }
   ],
   "source": [
    "y_test"
   ]
  },
  {
   "cell_type": "code",
   "execution_count": 2213,
   "id": "c01ea644",
   "metadata": {},
   "outputs": [
    {
     "data": {
      "text/plain": [
       "0.2690972138550558"
      ]
     },
     "execution_count": 2213,
     "metadata": {},
     "output_type": "execute_result"
    }
   ],
   "source": [
    "train_mse=mean_squared_error(y_train,y_train_pred)\n",
    "train_mse"
   ]
  },
  {
   "cell_type": "code",
   "execution_count": 2214,
   "id": "da254c2e",
   "metadata": {},
   "outputs": [
    {
     "data": {
      "text/plain": [
       "0.4556285780297685"
      ]
     },
     "execution_count": 2214,
     "metadata": {},
     "output_type": "execute_result"
    }
   ],
   "source": [
    "test_rmse=np.sqrt(test_mse)\n",
    "test_rmse"
   ]
  },
  {
   "cell_type": "code",
   "execution_count": 2215,
   "id": "09ffa646",
   "metadata": {},
   "outputs": [
    {
     "data": {
      "text/plain": [
       "0.5187458085180601"
      ]
     },
     "execution_count": 2215,
     "metadata": {},
     "output_type": "execute_result"
    }
   ],
   "source": [
    "train_rmse=np.sqrt(train_mse)\n",
    "train_rmse"
   ]
  },
  {
   "cell_type": "markdown",
   "id": "9f8f1dec",
   "metadata": {},
   "source": [
    "## Assumptions"
   ]
  },
  {
   "cell_type": "markdown",
   "id": "906e64b8",
   "metadata": {},
   "source": [
    "### Check the multicollinearity"
   ]
  },
  {
   "cell_type": "code",
   "execution_count": 2216,
   "id": "c601feb2",
   "metadata": {},
   "outputs": [
    {
     "data": {
      "text/html": [
       "<div>\n",
       "<style scoped>\n",
       "    .dataframe tbody tr th:only-of-type {\n",
       "        vertical-align: middle;\n",
       "    }\n",
       "\n",
       "    .dataframe tbody tr th {\n",
       "        vertical-align: top;\n",
       "    }\n",
       "\n",
       "    .dataframe thead th {\n",
       "        text-align: right;\n",
       "    }\n",
       "</style>\n",
       "<table border=\"1\" class=\"dataframe\">\n",
       "  <thead>\n",
       "    <tr style=\"text-align: right;\">\n",
       "      <th></th>\n",
       "      <th>age</th>\n",
       "      <th>bmi</th>\n",
       "      <th>smoker</th>\n",
       "    </tr>\n",
       "  </thead>\n",
       "  <tbody>\n",
       "    <tr>\n",
       "      <th>0</th>\n",
       "      <td>-1.440418</td>\n",
       "      <td>-0.454032</td>\n",
       "      <td>1</td>\n",
       "    </tr>\n",
       "    <tr>\n",
       "      <th>1</th>\n",
       "      <td>-1.511647</td>\n",
       "      <td>0.515033</td>\n",
       "      <td>0</td>\n",
       "    </tr>\n",
       "    <tr>\n",
       "      <th>2</th>\n",
       "      <td>-0.799350</td>\n",
       "      <td>0.387915</td>\n",
       "      <td>0</td>\n",
       "    </tr>\n",
       "    <tr>\n",
       "      <th>3</th>\n",
       "      <td>-0.443201</td>\n",
       "      <td>-1.311662</td>\n",
       "      <td>0</td>\n",
       "    </tr>\n",
       "    <tr>\n",
       "      <th>4</th>\n",
       "      <td>-0.514431</td>\n",
       "      <td>-0.292246</td>\n",
       "      <td>0</td>\n",
       "    </tr>\n",
       "  </tbody>\n",
       "</table>\n",
       "</div>"
      ],
      "text/plain": [
       "        age       bmi  smoker\n",
       "0 -1.440418 -0.454032       1\n",
       "1 -1.511647  0.515033       0\n",
       "2 -0.799350  0.387915       0\n",
       "3 -0.443201 -1.311662       0\n",
       "4 -0.514431 -0.292246       0"
      ]
     },
     "execution_count": 2216,
     "metadata": {},
     "output_type": "execute_result"
    }
   ],
   "source": [
    "#Using Heatmap\n",
    "x.head() #Independent features"
   ]
  },
  {
   "cell_type": "code",
   "execution_count": 2217,
   "id": "98913872",
   "metadata": {},
   "outputs": [
    {
     "data": {
      "text/html": [
       "<div>\n",
       "<style scoped>\n",
       "    .dataframe tbody tr th:only-of-type {\n",
       "        vertical-align: middle;\n",
       "    }\n",
       "\n",
       "    .dataframe tbody tr th {\n",
       "        vertical-align: top;\n",
       "    }\n",
       "\n",
       "    .dataframe thead th {\n",
       "        text-align: right;\n",
       "    }\n",
       "</style>\n",
       "<table border=\"1\" class=\"dataframe\">\n",
       "  <thead>\n",
       "    <tr style=\"text-align: right;\">\n",
       "      <th></th>\n",
       "      <th>age</th>\n",
       "      <th>bmi</th>\n",
       "      <th>smoker</th>\n",
       "    </tr>\n",
       "  </thead>\n",
       "  <tbody>\n",
       "    <tr>\n",
       "      <th>age</th>\n",
       "      <td>1.000000</td>\n",
       "      <td>0.111998</td>\n",
       "      <td>-0.025587</td>\n",
       "    </tr>\n",
       "    <tr>\n",
       "      <th>bmi</th>\n",
       "      <td>0.111998</td>\n",
       "      <td>1.000000</td>\n",
       "      <td>0.003151</td>\n",
       "    </tr>\n",
       "    <tr>\n",
       "      <th>smoker</th>\n",
       "      <td>-0.025587</td>\n",
       "      <td>0.003151</td>\n",
       "      <td>1.000000</td>\n",
       "    </tr>\n",
       "  </tbody>\n",
       "</table>\n",
       "</div>"
      ],
      "text/plain": [
       "             age       bmi    smoker\n",
       "age     1.000000  0.111998 -0.025587\n",
       "bmi     0.111998  1.000000  0.003151\n",
       "smoker -0.025587  0.003151  1.000000"
      ]
     },
     "execution_count": 2217,
     "metadata": {},
     "output_type": "execute_result"
    }
   ],
   "source": [
    "input_mull_corr_matrix=x.corr()\n",
    "input_mull_corr_matrix"
   ]
  },
  {
   "cell_type": "code",
   "execution_count": 2218,
   "id": "6274916d",
   "metadata": {},
   "outputs": [
    {
     "data": {
      "image/png": "[encoded data removed]",
      "text/plain": [
       "<Figure size 640x480 with 2 Axes>"
      ]
     },
     "metadata": {},
     "output_type": "display_data"
    }
   ],
   "source": [
    "sns.heatmap(x.corr(),annot=True)\n",
    "plt.show()"
   ]
  },
  {
   "cell_type": "code",
   "execution_count": 2219,
   "id": "a6c112b1",
   "metadata": {},
   "outputs": [],
   "source": [
    "from statsmodels.stats.outliers_influence import variance_inflation_factor"
   ]
  },
  {
   "cell_type": "code",
   "execution_count": 2220,
   "id": "1c5561d0",
   "metadata": {},
   "outputs": [],
   "source": [
    "# 1. VIF=1-->No Multicoolinearity\n",
    "# 2.1<VIF<5-->Moderate coolinearity(Acceptable)\n",
    "# 3.VIF>=5-->High coolinearity"
   ]
  },
  {
   "cell_type": "code",
   "execution_count": 2221,
   "id": "f7b89a4a",
   "metadata": {},
   "outputs": [
    {
     "data": {
      "text/html": [
       "<div>\n",
       "<style scoped>\n",
       "    .dataframe tbody tr th:only-of-type {\n",
       "        vertical-align: middle;\n",
       "    }\n",
       "\n",
       "    .dataframe tbody tr th {\n",
       "        vertical-align: top;\n",
       "    }\n",
       "\n",
       "    .dataframe thead th {\n",
       "        text-align: right;\n",
       "    }\n",
       "</style>\n",
       "<table border=\"1\" class=\"dataframe\">\n",
       "  <thead>\n",
       "    <tr style=\"text-align: right;\">\n",
       "      <th></th>\n",
       "      <th>Features</th>\n",
       "      <th>VIF</th>\n",
       "    </tr>\n",
       "  </thead>\n",
       "  <tbody>\n",
       "    <tr>\n",
       "      <th>0</th>\n",
       "      <td>age</td>\n",
       "      <td>1.017151</td>\n",
       "    </tr>\n",
       "    <tr>\n",
       "      <th>1</th>\n",
       "      <td>bmi</td>\n",
       "      <td>1.016671</td>\n",
       "    </tr>\n",
       "    <tr>\n",
       "      <th>2</th>\n",
       "      <td>smoker</td>\n",
       "      <td>1.001849</td>\n",
       "    </tr>\n",
       "  </tbody>\n",
       "</table>\n",
       "</div>"
      ],
      "text/plain": [
       "  Features       VIF\n",
       "0      age  1.017151\n",
       "1      bmi  1.016671\n",
       "2   smoker  1.001849"
      ]
     },
     "execution_count": 2221,
     "metadata": {},
     "output_type": "execute_result"
    }
   ],
   "source": [
    "vif_data=pd.DataFrame()\n",
    "vif_data['Features']=x.columns\n",
    "vif_data['VIF']=[variance_inflation_factor(x_train.values,i) for i in range(x.shape[1])]\n",
    "vif_data"
   ]
  },
  {
   "cell_type": "markdown",
   "id": "305e9893",
   "metadata": {},
   "source": [
    "## Check for Linearity"
   ]
  },
  {
   "cell_type": "code",
   "execution_count": 2222,
   "id": "07ff8810",
   "metadata": {},
   "outputs": [
    {
     "name": "stderr",
     "output_type": "stream",
     "text": [
      "C:\\Users\\Administrator\\anaconda3\\Lib\\site-packages\\seaborn\\axisgrid.py:118: UserWarning: The figure layout has changed to tight\n",
      "  self._figure.tight_layout(*args, **kwargs)\n"
     ]
    },
    {
     "data": {
      "image/png": "[encoded data removed]",
      "text/plain": [
       "<Figure size 1000x1000 with 20 Axes>"
      ]
     },
     "metadata": {},
     "output_type": "display_data"
    }
   ],
   "source": [
    "sns.pairplot(data=df)\n",
    "plt.show()"
   ]
  },
  {
   "cell_type": "markdown",
   "id": "90a8cad1",
   "metadata": {},
   "source": [
    "## Normality of residue"
   ]
  },
  {
   "cell_type": "code",
   "execution_count": 2223,
   "id": "da043320",
   "metadata": {},
   "outputs": [],
   "source": [
    "residue=[]\n",
    "a=list(y_train)\n",
    "b=list(y_train_pred)\n",
    "for i in range(x_train.shape[0]):\n",
    "    res=a[i]-b[i]\n",
    "    residue.append(res)"
   ]
  },
  {
   "cell_type": "code",
   "execution_count": 2224,
   "id": "13256f9b",
   "metadata": {
    "scrolled": true
   },
   "outputs": [
    {
     "data": {
      "image/png": "[encoded data removed]",
      "text/plain": [
       "<Figure size 640x480 with 1 Axes>"
      ]
     },
     "metadata": {},
     "output_type": "display_data"
    }
   ],
   "source": [
    "sns.kdeplot(data=residue)\n",
    "plt.show()"
   ]
  },
  {
   "cell_type": "code",
   "execution_count": 2225,
   "id": "6680aa66",
   "metadata": {},
   "outputs": [
    {
     "data": {
      "text/plain": [
       "900    -0.031342\n",
       "1064    0.060176\n",
       "1256   -0.084226\n",
       "298     0.742021\n",
       "237    -0.364012\n",
       "          ...   \n",
       "534    -0.221246\n",
       "542    -0.109420\n",
       "760    -0.139329\n",
       "1284    0.033532\n",
       "1285   -0.038100\n",
       "Name: charges, Length: 268, dtype: float64"
      ]
     },
     "execution_count": 2225,
     "metadata": {},
     "output_type": "execute_result"
    }
   ],
   "source": [
    "residuals=y_test-y_test_pred\n",
    "residuals"
   ]
  },
  {
   "cell_type": "code",
   "execution_count": 2226,
   "id": "cf597611",
   "metadata": {},
   "outputs": [
    {
     "data": {
      "image/png": "[encoded data removed]",
      "text/plain": [
       "<Figure size 640x480 with 1 Axes>"
      ]
     },
     "metadata": {},
     "output_type": "display_data"
    }
   ],
   "source": [
    "sns.kdeplot(data=residuals)\n",
    "plt.show()"
   ]
  },
  {
   "cell_type": "markdown",
   "id": "3416ad83",
   "metadata": {},
   "source": [
    "### Homoscedasticity"
   ]
  },
  {
   "cell_type": "code",
   "execution_count": 2227,
   "id": "60b25b45",
   "metadata": {},
   "outputs": [
    {
     "data": {
      "image/png": "[encoded data removed]",
      "text/plain": [
       "<Figure size 640x480 with 1 Axes>"
      ]
     },
     "metadata": {},
     "output_type": "display_data"
    }
   ],
   "source": [
    "plt.scatter(x=y_test_pred,y=residuals)\n",
    "plt.xlabel('Fitted values')\n",
    "plt.ylabel('Residuals')\n",
    "plt.title('Residuals vs Fitted values')\n",
    "plt.axhline(y=0, color='r', linestyle='--')\n",
    "plt.show()"
   ]
  },
  {
   "cell_type": "markdown",
   "id": "234e09b6",
   "metadata": {},
   "source": [
    "### No Auto Co-relation"
   ]
  },
  {
   "cell_type": "code",
   "execution_count": 2228,
   "id": "5cf86050",
   "metadata": {},
   "outputs": [
    {
     "data": {
      "text/plain": [
       "2.045680254154307"
      ]
     },
     "execution_count": 2228,
     "metadata": {},
     "output_type": "execute_result"
    }
   ],
   "source": [
    "from statsmodels.stats.stattools import durbin_watson\n",
    "durbin_stats=durbin_watson(residuals)\n",
    "durbin_stats"
   ]
  },
  {
   "cell_type": "markdown",
   "id": "2efa89e2",
   "metadata": {},
   "source": [
    "## OLS Method"
   ]
  },
  {
   "cell_type": "code",
   "execution_count": 2229,
   "id": "af93210a",
   "metadata": {},
   "outputs": [],
   "source": [
    "# from statsmodels.regression.linear_model import OLS\n",
    "# import statsmodels.regression.linear_model as sm\n",
    "import statsmodels.api as sm"
   ]
  },
  {
   "cell_type": "code",
   "execution_count": 2230,
   "id": "7c4a30f0",
   "metadata": {},
   "outputs": [],
   "source": [
    "x_train=sms.add_constant(x_train)\n",
    "x_test=sms.add_constant(x_test)"
   ]
  },
  {
   "cell_type": "code",
   "execution_count": 2231,
   "id": "13f084fa",
   "metadata": {},
   "outputs": [
    {
     "data": {
      "text/plain": [
       "<statsmodels.regression.linear_model.RegressionResultsWrapper at 0x24d742ead10>"
      ]
     },
     "execution_count": 2231,
     "metadata": {},
     "output_type": "execute_result"
    }
   ],
   "source": [
    "model=sm.OLS(y_train,x_train).fit()\n",
    "model"
   ]
  },
  {
   "cell_type": "code",
   "execution_count": 2232,
   "id": "c8b2f5eb",
   "metadata": {},
   "outputs": [
    {
     "data": {
      "text/html": [
       "<table class=\"simpletable\">\n",
       "<caption>OLS Regression Results</caption>\n",
       "<tr>\n",
       "  <th>Dep. Variable:</th>         <td>charges</td>     <th>  R-squared:         </th> <td>   0.721</td> \n",
       "</tr>\n",
       "<tr>\n",
       "  <th>Model:</th>                   <td>OLS</td>       <th>  Adj. R-squared:    </th> <td>   0.721</td> \n",
       "</tr>\n",
       "<tr>\n",
       "  <th>Method:</th>             <td>Least Squares</td>  <th>  F-statistic:       </th> <td>   919.4</td> \n",
       "</tr>\n",
       "<tr>\n",
       "  <th>Date:</th>             <td>Sun, 02 Jun 2024</td> <th>  Prob (F-statistic):</th> <td>5.84e-295</td>\n",
       "</tr>\n",
       "<tr>\n",
       "  <th>Time:</th>                 <td>16:49:27</td>     <th>  Log-Likelihood:    </th> <td> -815.22</td> \n",
       "</tr>\n",
       "<tr>\n",
       "  <th>No. Observations:</th>      <td>  1069</td>      <th>  AIC:               </th> <td>   1638.</td> \n",
       "</tr>\n",
       "<tr>\n",
       "  <th>Df Residuals:</th>          <td>  1065</td>      <th>  BIC:               </th> <td>   1658.</td> \n",
       "</tr>\n",
       "<tr>\n",
       "  <th>Df Model:</th>              <td>     3</td>      <th>                     </th>     <td> </td>    \n",
       "</tr>\n",
       "<tr>\n",
       "  <th>Covariance Type:</th>      <td>nonrobust</td>    <th>                     </th>     <td> </td>    \n",
       "</tr>\n",
       "</table>\n",
       "<table class=\"simpletable\">\n",
       "<tr>\n",
       "     <td></td>       <th>coef</th>     <th>std err</th>      <th>t</th>      <th>P>|t|</th>  <th>[0.025</th>    <th>0.975]</th>  \n",
       "</tr>\n",
       "<tr>\n",
       "  <th>const</th>  <td>   -0.3978</td> <td>    0.018</td> <td>  -22.378</td> <td> 0.000</td> <td>   -0.433</td> <td>   -0.363</td>\n",
       "</tr>\n",
       "<tr>\n",
       "  <th>age</th>    <td>    0.3136</td> <td>    0.016</td> <td>   19.493</td> <td> 0.000</td> <td>    0.282</td> <td>    0.345</td>\n",
       "</tr>\n",
       "<tr>\n",
       "  <th>bmi</th>    <td>    0.1217</td> <td>    0.016</td> <td>    7.522</td> <td> 0.000</td> <td>    0.090</td> <td>    0.153</td>\n",
       "</tr>\n",
       "<tr>\n",
       "  <th>smoker</th> <td>    1.9326</td> <td>    0.040</td> <td>   48.606</td> <td> 0.000</td> <td>    1.855</td> <td>    2.011</td>\n",
       "</tr>\n",
       "</table>\n",
       "<table class=\"simpletable\">\n",
       "<tr>\n",
       "  <th>Omnibus:</th>       <td>408.023</td> <th>  Durbin-Watson:     </th> <td>   1.983</td> \n",
       "</tr>\n",
       "<tr>\n",
       "  <th>Prob(Omnibus):</th> <td> 0.000</td>  <th>  Jarque-Bera (JB):  </th> <td>1379.587</td> \n",
       "</tr>\n",
       "<tr>\n",
       "  <th>Skew:</th>          <td> 1.891</td>  <th>  Prob(JB):          </th> <td>2.67e-300</td>\n",
       "</tr>\n",
       "<tr>\n",
       "  <th>Kurtosis:</th>      <td> 7.084</td>  <th>  Cond. No.          </th> <td>    2.71</td> \n",
       "</tr>\n",
       "</table><br/><br/>Notes:<br/>[1] Standard Errors assume that the covariance matrix of the errors is correctly specified."
      ],
      "text/latex": [
       "\\begin{center}\n",
       "\\begin{tabular}{lclc}\n",
       "\\toprule\n",
       "\\textbf{Dep. Variable:}    &     charges      & \\textbf{  R-squared:         } &     0.721   \\\\\n",
       "\\textbf{Model:}            &       OLS        & \\textbf{  Adj. R-squared:    } &     0.721   \\\\\n",
       "\\textbf{Method:}           &  Least Squares   & \\textbf{  F-statistic:       } &     919.4   \\\\\n",
       "\\textbf{Date:}             & Sun, 02 Jun 2024 & \\textbf{  Prob (F-statistic):} & 5.84e-295   \\\\\n",
       "\\textbf{Time:}             &     16:49:27     & \\textbf{  Log-Likelihood:    } &   -815.22   \\\\\n",
       "\\textbf{No. Observations:} &        1069      & \\textbf{  AIC:               } &     1638.   \\\\\n",
       "\\textbf{Df Residuals:}     &        1065      & \\textbf{  BIC:               } &     1658.   \\\\\n",
       "\\textbf{Df Model:}         &           3      & \\textbf{                     } &             \\\\\n",
       "\\textbf{Covariance Type:}  &    nonrobust     & \\textbf{                     } &             \\\\\n",
       "\\bottomrule\n",
       "\\end{tabular}\n",
       "\\begin{tabular}{lcccccc}\n",
       "                & \\textbf{coef} & \\textbf{std err} & \\textbf{t} & \\textbf{P$> |$t$|$} & \\textbf{[0.025} & \\textbf{0.975]}  \\\\\n",
       "\\midrule\n",
       "\\textbf{const}  &      -0.3978  &        0.018     &   -22.378  &         0.000        &       -0.433    &       -0.363     \\\\\n",
       "\\textbf{age}    &       0.3136  &        0.016     &    19.493  &         0.000        &        0.282    &        0.345     \\\\\n",
       "\\textbf{bmi}    &       0.1217  &        0.016     &     7.522  &         0.000        &        0.090    &        0.153     \\\\\n",
       "\\textbf{smoker} &       1.9326  &        0.040     &    48.606  &         0.000        &        1.855    &        2.011     \\\\\n",
       "\\bottomrule\n",
       "\\end{tabular}\n",
       "\\begin{tabular}{lclc}\n",
       "\\textbf{Omnibus:}       & 408.023 & \\textbf{  Durbin-Watson:     } &     1.983  \\\\\n",
       "\\textbf{Prob(Omnibus):} &   0.000 & \\textbf{  Jarque-Bera (JB):  } &  1379.587  \\\\\n",
       "\\textbf{Skew:}          &   1.891 & \\textbf{  Prob(JB):          } & 2.67e-300  \\\\\n",
       "\\textbf{Kurtosis:}      &   7.084 & \\textbf{  Cond. No.          } &      2.71  \\\\\n",
       "\\bottomrule\n",
       "\\end{tabular}\n",
       "%\\caption{OLS Regression Results}\n",
       "\\end{center}\n",
       "\n",
       "Notes: \\newline\n",
       " [1] Standard Errors assume that the covariance matrix of the errors is correctly specified."
      ],
      "text/plain": [
       "<class 'statsmodels.iolib.summary.Summary'>\n",
       "\"\"\"\n",
       "                            OLS Regression Results                            \n",
       "==============================================================================\n",
       "Dep. Variable:                charges   R-squared:                       0.721\n",
       "Model:                            OLS   Adj. R-squared:                  0.721\n",
       "Method:                 Least Squares   F-statistic:                     919.4\n",
       "Date:                Sun, 02 Jun 2024   Prob (F-statistic):          5.84e-295\n",
       "Time:                        16:49:27   Log-Likelihood:                -815.22\n",
       "No. Observations:                1069   AIC:                             1638.\n",
       "Df Residuals:                    1065   BIC:                             1658.\n",
       "Df Model:                           3                                         \n",
       "Covariance Type:            nonrobust                                         \n",
       "==============================================================================\n",
       "                 coef    std err          t      P>|t|      [0.025      0.975]\n",
       "------------------------------------------------------------------------------\n",
       "const         -0.3978      0.018    -22.378      0.000      -0.433      -0.363\n",
       "age            0.3136      0.016     19.493      0.000       0.282       0.345\n",
       "bmi            0.1217      0.016      7.522      0.000       0.090       0.153\n",
       "smoker         1.9326      0.040     48.606      0.000       1.855       2.011\n",
       "==============================================================================\n",
       "Omnibus:                      408.023   Durbin-Watson:                   1.983\n",
       "Prob(Omnibus):                  0.000   Jarque-Bera (JB):             1379.587\n",
       "Skew:                           1.891   Prob(JB):                    2.67e-300\n",
       "Kurtosis:                       7.084   Cond. No.                         2.71\n",
       "==============================================================================\n",
       "\n",
       "Notes:\n",
       "[1] Standard Errors assume that the covariance matrix of the errors is correctly specified.\n",
       "\"\"\""
      ]
     },
     "execution_count": 2232,
     "metadata": {},
     "output_type": "execute_result"
    }
   ],
   "source": [
    "model.summary()"
   ]
  },
  {
   "cell_type": "code",
   "execution_count": 2233,
   "id": "4cd49ef8",
   "metadata": {},
   "outputs": [
    {
     "data": {
      "text/plain": [
       "900    -0.342837\n",
       "1064   -0.727612\n",
       "1256   -0.019538\n",
       "298     1.426277\n",
       "237    -0.426008\n",
       "          ...   \n",
       "534     0.353109\n",
       "542     0.246803\n",
       "760    -0.703581\n",
       "1284    2.134767\n",
       "1285   -0.351252\n",
       "Length: 268, dtype: float64"
      ]
     },
     "execution_count": 2233,
     "metadata": {},
     "output_type": "execute_result"
    }
   ],
   "source": [
    "y_test_pred=model.predict(x_test)\n",
    "y_test_pred"
   ]
  },
  {
   "cell_type": "code",
   "execution_count": 2234,
   "id": "bcaf8bcf",
   "metadata": {},
   "outputs": [
    {
     "data": {
      "text/plain": [
       "1114   -0.883532\n",
       "968    -0.903398\n",
       "599     0.025700\n",
       "170     0.350659\n",
       "275    -0.305451\n",
       "          ...   \n",
       "1096    1.884475\n",
       "1131   -0.364495\n",
       "1295   -1.000966\n",
       "861    -0.478364\n",
       "1127   -0.387482\n",
       "Length: 1069, dtype: float64"
      ]
     },
     "execution_count": 2234,
     "metadata": {},
     "output_type": "execute_result"
    }
   ],
   "source": [
    "y_train_pred=model.predict(x_train)\n",
    "y_train_pred"
   ]
  },
  {
   "cell_type": "code",
   "execution_count": 2235,
   "id": "18690398",
   "metadata": {},
   "outputs": [
    {
     "data": {
      "text/plain": [
       "0.7214377255832262"
      ]
     },
     "execution_count": 2235,
     "metadata": {},
     "output_type": "execute_result"
    }
   ],
   "source": [
    "from sklearn.metrics import r2_score\n",
    "y_train_r2_value=r2_score(y_train,y_train_pred)\n",
    "y_train_r2_value"
   ]
  },
  {
   "cell_type": "code",
   "execution_count": 2236,
   "id": "0f0f0246",
   "metadata": {},
   "outputs": [
    {
     "data": {
      "text/plain": [
       "0.8165518569106659"
      ]
     },
     "execution_count": 2236,
     "metadata": {},
     "output_type": "execute_result"
    }
   ],
   "source": [
    "from sklearn.metrics import r2_score\n",
    "y_test_r2_value=r2_score(y_test,y_test_pred)\n",
    "y_test_r2_value"
   ]
  },
  {
   "cell_type": "code",
   "execution_count": 2237,
   "id": "0f209111",
   "metadata": {},
   "outputs": [
    {
     "data": {
      "text/plain": [
       "0.3427635483712158"
      ]
     },
     "execution_count": 2237,
     "metadata": {},
     "output_type": "execute_result"
    }
   ],
   "source": [
    "from sklearn.metrics import mean_absolute_error\n",
    "y_train_mae=mean_absolute_error(y_train,y_train_pred)\n",
    "y_train_mae"
   ]
  },
  {
   "cell_type": "code",
   "execution_count": 2238,
   "id": "bd85b410",
   "metadata": {},
   "outputs": [
    {
     "data": {
      "text/plain": [
       "0.31152840738228693"
      ]
     },
     "execution_count": 2238,
     "metadata": {},
     "output_type": "execute_result"
    }
   ],
   "source": [
    "from sklearn.metrics import mean_absolute_error\n",
    "y_test_mae=mean_absolute_error(y_test,y_test_pred)\n",
    "y_test_mae"
   ]
  },
  {
   "cell_type": "markdown",
   "id": "933eb5ef",
   "metadata": {},
   "source": [
    "## Gradient descent method"
   ]
  },
  {
   "cell_type": "code",
   "execution_count": 2239,
   "id": "931b2240",
   "metadata": {},
   "outputs": [],
   "source": [
    "from sklearn.linear_model import SGDRegressor\n",
    "\n",
    "\n",
    "sgd=SGDRegressor()\n",
    "\n",
    "model=sgd.fit(x_train,y_train)"
   ]
  },
  {
   "cell_type": "code",
   "execution_count": 2240,
   "id": "63189c8a",
   "metadata": {},
   "outputs": [
    {
     "data": {
      "text/html": [
       "<style>#sk-container-id-32 {color: black;}#sk-container-id-32 pre{padding: 0;}#sk-container-id-32 div.sk-toggleable {background-color: white;}#sk-container-id-32 label.sk-toggleable__label {cursor: pointer;display: block;width: 100%;margin-bottom: 0;padding: 0.3em;box-sizing: border-box;text-align: center;}#sk-container-id-32 label.sk-toggleable__label-arrow:before {content: \"▸\";float: left;margin-right: 0.25em;color: #696969;}#sk-container-id-32 label.sk-toggleable__label-arrow:hover:before {color: black;}#sk-container-id-32 div.sk-estimator:hover label.sk-toggleable__label-arrow:before {color: black;}#sk-container-id-32 div.sk-toggleable__content {max-height: 0;max-width: 0;overflow: hidden;text-align: left;background-color: #f0f8ff;}#sk-container-id-32 div.sk-toggleable__content pre {margin: 0.2em;color: black;border-radius: 0.25em;background-color: #f0f8ff;}#sk-container-id-32 input.sk-toggleable__control:checked~div.sk-toggleable__content {max-height: 200px;max-width: 100%;overflow: auto;}#sk-container-id-32 input.sk-toggleable__control:checked~label.sk-toggleable__label-arrow:before {content: \"▾\";}#sk-container-id-32 div.sk-estimator input.sk-toggleable__control:checked~label.sk-toggleable__label {background-color: #d4ebff;}#sk-container-id-32 div.sk-label input.sk-toggleable__control:checked~label.sk-toggleable__label {background-color: #d4ebff;}#sk-container-id-32 input.sk-hidden--visually {border: 0;clip: rect(1px 1px 1px 1px);clip: rect(1px, 1px, 1px, 1px);height: 1px;margin: -1px;overflow: hidden;padding: 0;position: absolute;width: 1px;}#sk-container-id-32 div.sk-estimator {font-family: monospace;background-color: #f0f8ff;border: 1px dotted black;border-radius: 0.25em;box-sizing: border-box;margin-bottom: 0.5em;}#sk-container-id-32 div.sk-estimator:hover {background-color: #d4ebff;}#sk-container-id-32 div.sk-parallel-item::after {content: \"\";width: 100%;border-bottom: 1px solid gray;flex-grow: 1;}#sk-container-id-32 div.sk-label:hover label.sk-toggleable__label {background-color: #d4ebff;}#sk-container-id-32 div.sk-serial::before {content: \"\";position: absolute;border-left: 1px solid gray;box-sizing: border-box;top: 0;bottom: 0;left: 50%;z-index: 0;}#sk-container-id-32 div.sk-serial {display: flex;flex-direction: column;align-items: center;background-color: white;padding-right: 0.2em;padding-left: 0.2em;position: relative;}#sk-container-id-32 div.sk-item {position: relative;z-index: 1;}#sk-container-id-32 div.sk-parallel {display: flex;align-items: stretch;justify-content: center;background-color: white;position: relative;}#sk-container-id-32 div.sk-item::before, #sk-container-id-32 div.sk-parallel-item::before {content: \"\";position: absolute;border-left: 1px solid gray;box-sizing: border-box;top: 0;bottom: 0;left: 50%;z-index: -1;}#sk-container-id-32 div.sk-parallel-item {display: flex;flex-direction: column;z-index: 1;position: relative;background-color: white;}#sk-container-id-32 div.sk-parallel-item:first-child::after {align-self: flex-end;width: 50%;}#sk-container-id-32 div.sk-parallel-item:last-child::after {align-self: flex-start;width: 50%;}#sk-container-id-32 div.sk-parallel-item:only-child::after {width: 0;}#sk-container-id-32 div.sk-dashed-wrapped {border: 1px dashed gray;margin: 0 0.4em 0.5em 0.4em;box-sizing: border-box;padding-bottom: 0.4em;background-color: white;}#sk-container-id-32 div.sk-label label {font-family: monospace;font-weight: bold;display: inline-block;line-height: 1.2em;}#sk-container-id-32 div.sk-label-container {text-align: center;}#sk-container-id-32 div.sk-container {/* jupyter's `normalize.less` sets `[hidden] { display: none; }` but bootstrap.min.css set `[hidden] { display: none !important; }` so we also need the `!important` here to be able to override the default hidden behavior on the sphinx rendered scikit-learn.org. See: https://github.com/scikit-learn/scikit-learn/issues/21755 */display: inline-block !important;position: relative;}#sk-container-id-32 div.sk-text-repr-fallback {display: none;}</style><div id=\"sk-container-id-32\" class=\"sk-top-container\"><div class=\"sk-text-repr-fallback\"><pre>SGDRegressor()</pre><b>In a Jupyter environment, please rerun this cell to show the HTML representation or trust the notebook. <br />On GitHub, the HTML representation is unable to render, please try loading this page with nbviewer.org.</b></div><div class=\"sk-container\" hidden><div class=\"sk-item\"><div class=\"sk-estimator sk-toggleable\"><input class=\"sk-toggleable__control sk-hidden--visually\" id=\"sk-estimator-id-32\" type=\"checkbox\" checked><label for=\"sk-estimator-id-32\" class=\"sk-toggleable__label sk-toggleable__label-arrow\">SGDRegressor</label><div class=\"sk-toggleable__content\"><pre>SGDRegressor()</pre></div></div></div></div></div>"
      ],
      "text/plain": [
       "SGDRegressor()"
      ]
     },
     "execution_count": 2240,
     "metadata": {},
     "output_type": "execute_result"
    }
   ],
   "source": [
    "model"
   ]
  },
  {
   "cell_type": "code",
   "execution_count": 2241,
   "id": "e5fac0d8",
   "metadata": {
    "scrolled": true
   },
   "outputs": [
    {
     "data": {
      "text/plain": [
       "array([-0.33758783, -0.72156225, -0.00965658,  1.34735131, -0.41568528,\n",
       "       -0.03138058,  1.21512151, -0.90454928, -0.20365876, -0.21149048,\n",
       "       -0.09850399,  1.67311498,  1.35418024,  0.36933249, -0.33231495,\n",
       "       -0.30068069, -0.77158706,  1.47563503, -0.82740725, -0.64008397,\n",
       "       -0.77158706,  1.32911706,  0.07419404,  1.40177853,  1.41532803,\n",
       "       -0.73637347,  1.71530126,  1.96299199, -0.16881138, -0.09222206,\n",
       "       -0.56526634, -0.01801706, -1.0139559 , -0.012305  ,  2.12530572,\n",
       "       -0.05427564, -0.88378641, -0.81459017,  1.56354635, -0.29160549,\n",
       "       -0.58792752,  1.3226007 ,  1.64779912, -0.09307483, -0.45701254,\n",
       "       -0.73982673, -0.66762213, -0.32087314, -0.73706995, -0.36044123,\n",
       "       -0.59279824, -0.1498025 ,  1.42929845, -0.76484826, -0.22274007,\n",
       "       -0.28239225, -0.18619287, -0.87395429,  1.41982056, -0.35148012,\n",
       "        0.04948508, -0.41164907, -0.08236598, -0.95667605,  0.1824895 ,\n",
       "       -0.22297395, -0.2866087 ,  1.48096263,  0.94255411,  0.24587784,\n",
       "       -0.35590023, -0.87519777, -0.48727726, -1.07974625, -0.07157899,\n",
       "       -1.08799264,  0.35708011, -0.42489852, -0.36239889,  0.03240418,\n",
       "       -0.66436055,  0.22435178,  0.20312059, -0.21039757,  1.92670944,\n",
       "        0.03262037, -0.70207254, -0.89041113, -0.61904501, -0.71352633,\n",
       "        0.1246033 ,  1.10578732, -0.77045767, -0.78803765, -0.87766022,\n",
       "        1.83320068,  0.13887949, -0.29834429, -0.71116598, -0.39594289,\n",
       "        0.16489809,  0.09626655,  1.60397919,  0.03943106,  1.43092584,\n",
       "       -1.02356557,  1.36395818,  0.94641007,  0.02153905, -0.55683971,\n",
       "       -0.4365862 , -0.04139241, -0.45360147, -0.41387138, -0.59415581,\n",
       "       -0.62378967, -0.94208729, -0.80954546, -0.5225935 , -0.29430809,\n",
       "        1.90025847, -0.43521093, -0.13189225, -0.40940281, -0.32222444,\n",
       "       -0.31860291, -0.84567172,  0.04668664,  1.30853389,  2.13009885,\n",
       "        1.90917167, -0.10494901, -0.80809778, -0.20078164, -0.36057356,\n",
       "       -0.8499783 ,  1.73100118,  1.34882922,  0.96665045, -0.66197624,\n",
       "       -0.56874983, -0.71192862,  1.8567021 , -0.16570608, -0.65006039,\n",
       "       -0.35104774, -0.28787614, -0.34753404,  1.75067114,  0.14887988,\n",
       "       -0.3325551 , -0.60189114, -0.48740959,  0.34856961, -0.48859262,\n",
       "        1.05302969,  1.74537948,  0.10179782, -0.18401276, -0.11736339,\n",
       "       -0.01826918, -0.68243852,  0.03131699,  0.0866449 ,  1.86245636,\n",
       "        1.57580445, -0.07204159,  0.94734098, -0.85455469, -1.00990772,\n",
       "       -0.67002414, -0.69049323, -0.6516336 , -0.13124315, -0.30484295,\n",
       "        1.03020705, -0.88401457, -0.13908739, -0.44242377, -0.19115998,\n",
       "        0.1304112 , -0.67514754, -0.1912079 , -0.1452193 ,  1.51550943,\n",
       "       -0.09873842, -0.6208167 , -0.71066744, -1.0080459 ,  1.3863547 ,\n",
       "       -0.48984236,  1.60715637, -0.02897803, -0.57303816, -0.95279613,\n",
       "       -0.87468725,  1.51550943, -0.70511167, -0.0055662 ,  0.27109731,\n",
       "        1.02872914,  1.06110209, -0.47690495,  0.01061402,  1.11748697,\n",
       "       -0.44441219, -0.30104118, -0.26573746, -0.8041939 ,  1.58547402,\n",
       "        1.45849995, -0.33867503, -0.57764478, -0.48347549, -0.05060565,\n",
       "       -0.70846338, -0.69369437, -0.10207814, -0.2357009 , -0.87131785,\n",
       "       -0.7497969 ,  1.84512851,  1.83187906,  0.06063883, -0.13942964,\n",
       "        2.07444067,  1.71959586, -0.38406871,  1.03935985, -0.72923197,\n",
       "        0.28610647,  1.34108708, -0.68088927, -0.25745513, -0.24415722,\n",
       "       -0.22955075, -0.17711141, -0.73766487, -0.62951943, -0.70039097,\n",
       "       -0.69013274, -0.67700936, -0.63906294, -0.25224161, -0.95372704,\n",
       "       -0.33564787, -0.83750347, -0.27764758, -0.89459736, -0.31648271,\n",
       "       -0.8179299 , -0.05699023,  0.03863247,  0.05366559,  1.81861192,\n",
       "        0.79492499, -0.16461889, -0.5769061 , -0.4126279 , -0.11930335,\n",
       "        1.12673616,  2.07680102,  0.04644023,  0.3644977 ,  0.25679089,\n",
       "       -0.69462527,  2.05681277, -0.34542581])"
      ]
     },
     "execution_count": 2241,
     "metadata": {},
     "output_type": "execute_result"
    }
   ],
   "source": [
    "y_test_pred=model.predict(x_test)\n",
    "y_test_pred"
   ]
  },
  {
   "cell_type": "code",
   "execution_count": 2242,
   "id": "aa5545ea",
   "metadata": {},
   "outputs": [
    {
     "data": {
      "text/plain": [
       "900    -0.374179\n",
       "1064   -0.667436\n",
       "1256   -0.103764\n",
       "298     2.168298\n",
       "237    -0.790020\n",
       "          ...   \n",
       "534     0.131863\n",
       "542     0.137383\n",
       "760    -0.842910\n",
       "1284    2.168298\n",
       "1285   -0.389353\n",
       "Name: charges, Length: 268, dtype: float64"
      ]
     },
     "execution_count": 2242,
     "metadata": {},
     "output_type": "execute_result"
    }
   ],
   "source": [
    "y_test"
   ]
  },
  {
   "cell_type": "code",
   "execution_count": 2243,
   "id": "c302f810",
   "metadata": {},
   "outputs": [
    {
     "data": {
      "text/plain": [
       "0.8108935321759337"
      ]
     },
     "execution_count": 2243,
     "metadata": {},
     "output_type": "execute_result"
    }
   ],
   "source": [
    "y_test_r2_score=r2_score(y_test,y_test_pred)\n",
    "y_test_r2_score"
   ]
  },
  {
   "cell_type": "code",
   "execution_count": 2244,
   "id": "49795472",
   "metadata": {},
   "outputs": [
    {
     "data": {
      "text/plain": [
       "array([-0.87791235, -0.89739008,  0.03597153, ..., -0.99621392,\n",
       "       -0.47141534, -0.37795505])"
      ]
     },
     "execution_count": 2244,
     "metadata": {},
     "output_type": "execute_result"
    }
   ],
   "source": [
    "y_train_pred=model.predict(x_train)\n",
    "y_train_pred"
   ]
  },
  {
   "cell_type": "code",
   "execution_count": 2245,
   "id": "7b32b1ca",
   "metadata": {},
   "outputs": [
    {
     "data": {
      "text/plain": [
       "0.7200494088616411"
      ]
     },
     "execution_count": 2245,
     "metadata": {},
     "output_type": "execute_result"
    }
   ],
   "source": [
    "y_train_r2_score=r2_score(y_train,y_train_pred)\n",
    "y_train_r2_score"
   ]
  },
  {
   "cell_type": "markdown",
   "id": "8a40fec1",
   "metadata": {},
   "source": [
    "## Normalization"
   ]
  },
  {
   "cell_type": "code",
   "execution_count": 2246,
   "id": "51f3eb75",
   "metadata": {
    "scrolled": false
   },
   "outputs": [
    {
     "data": {
      "text/html": [
       "<div>\n",
       "<style scoped>\n",
       "    .dataframe tbody tr th:only-of-type {\n",
       "        vertical-align: middle;\n",
       "    }\n",
       "\n",
       "    .dataframe tbody tr th {\n",
       "        vertical-align: top;\n",
       "    }\n",
       "\n",
       "    .dataframe thead th {\n",
       "        text-align: right;\n",
       "    }\n",
       "</style>\n",
       "<table border=\"1\" class=\"dataframe\">\n",
       "  <thead>\n",
       "    <tr style=\"text-align: right;\">\n",
       "      <th></th>\n",
       "      <th>age</th>\n",
       "      <th>bmi</th>\n",
       "      <th>smoker</th>\n",
       "      <th>charges</th>\n",
       "    </tr>\n",
       "  </thead>\n",
       "  <tbody>\n",
       "    <tr>\n",
       "      <th>0</th>\n",
       "      <td>-1.440418</td>\n",
       "      <td>-0.454032</td>\n",
       "      <td>1</td>\n",
       "      <td>0.432384</td>\n",
       "    </tr>\n",
       "    <tr>\n",
       "      <th>1</th>\n",
       "      <td>-1.511647</td>\n",
       "      <td>0.515033</td>\n",
       "      <td>0</td>\n",
       "      <td>-1.059429</td>\n",
       "    </tr>\n",
       "    <tr>\n",
       "      <th>2</th>\n",
       "      <td>-0.799350</td>\n",
       "      <td>0.387915</td>\n",
       "      <td>0</td>\n",
       "      <td>-0.791373</td>\n",
       "    </tr>\n",
       "    <tr>\n",
       "      <th>3</th>\n",
       "      <td>-0.443201</td>\n",
       "      <td>-1.311662</td>\n",
       "      <td>0</td>\n",
       "      <td>0.934224</td>\n",
       "    </tr>\n",
       "    <tr>\n",
       "      <th>4</th>\n",
       "      <td>-0.514431</td>\n",
       "      <td>-0.292246</td>\n",
       "      <td>0</td>\n",
       "      <td>-0.848706</td>\n",
       "    </tr>\n",
       "    <tr>\n",
       "      <th>...</th>\n",
       "      <td>...</td>\n",
       "      <td>...</td>\n",
       "      <td>...</td>\n",
       "      <td>...</td>\n",
       "    </tr>\n",
       "    <tr>\n",
       "      <th>1333</th>\n",
       "      <td>0.767704</td>\n",
       "      <td>0.052787</td>\n",
       "      <td>0</td>\n",
       "      <td>-0.186053</td>\n",
       "    </tr>\n",
       "    <tr>\n",
       "      <th>1334</th>\n",
       "      <td>-1.511647</td>\n",
       "      <td>0.209621</td>\n",
       "      <td>0</td>\n",
       "      <td>-1.012150</td>\n",
       "    </tr>\n",
       "    <tr>\n",
       "      <th>1335</th>\n",
       "      <td>-1.511647</td>\n",
       "      <td>1.023503</td>\n",
       "      <td>0</td>\n",
       "      <td>-1.068848</td>\n",
       "    </tr>\n",
       "    <tr>\n",
       "      <th>1336</th>\n",
       "      <td>-1.297958</td>\n",
       "      <td>-0.800716</td>\n",
       "      <td>0</td>\n",
       "      <td>-1.031639</td>\n",
       "    </tr>\n",
       "    <tr>\n",
       "      <th>1337</th>\n",
       "      <td>1.551231</td>\n",
       "      <td>-0.260879</td>\n",
       "      <td>1</td>\n",
       "      <td>1.638524</td>\n",
       "    </tr>\n",
       "  </tbody>\n",
       "</table>\n",
       "<p>1337 rows × 4 columns</p>\n",
       "</div>"
      ],
      "text/plain": [
       "           age       bmi  smoker   charges\n",
       "0    -1.440418 -0.454032       1  0.432384\n",
       "1    -1.511647  0.515033       0 -1.059429\n",
       "2    -0.799350  0.387915       0 -0.791373\n",
       "3    -0.443201 -1.311662       0  0.934224\n",
       "4    -0.514431 -0.292246       0 -0.848706\n",
       "...        ...       ...     ...       ...\n",
       "1333  0.767704  0.052787       0 -0.186053\n",
       "1334 -1.511647  0.209621       0 -1.012150\n",
       "1335 -1.511647  1.023503       0 -1.068848\n",
       "1336 -1.297958 -0.800716       0 -1.031639\n",
       "1337  1.551231 -0.260879       1  1.638524\n",
       "\n",
       "[1337 rows x 4 columns]"
      ]
     },
     "execution_count": 2246,
     "metadata": {},
     "output_type": "execute_result"
    }
   ],
   "source": [
    "df"
   ]
  },
  {
   "cell_type": "code",
   "execution_count": 2247,
   "id": "f03848ed",
   "metadata": {},
   "outputs": [],
   "source": [
    "# numeric_cols=df2.select_dtypes(include=['number']).columns\n",
    "# numeric_cols"
   ]
  },
  {
   "cell_type": "code",
   "execution_count": 2248,
   "id": "b1cf5a57",
   "metadata": {},
   "outputs": [],
   "source": [
    "# non_numeric_cols=df1.select_dtypes(exclude=['number'])\n",
    "# non_numeric_cols"
   ]
  },
  {
   "cell_type": "code",
   "execution_count": 2249,
   "id": "1e09a79f",
   "metadata": {},
   "outputs": [],
   "source": [
    "from sklearn.preprocessing import MinMaxScaler\n",
    "mm=MinMaxScaler()"
   ]
  },
  {
   "cell_type": "code",
   "execution_count": 2250,
   "id": "242623d9",
   "metadata": {
    "scrolled": true
   },
   "outputs": [
    {
     "data": {
      "text/html": [
       "<div>\n",
       "<style scoped>\n",
       "    .dataframe tbody tr th:only-of-type {\n",
       "        vertical-align: middle;\n",
       "    }\n",
       "\n",
       "    .dataframe tbody tr th {\n",
       "        vertical-align: top;\n",
       "    }\n",
       "\n",
       "    .dataframe thead th {\n",
       "        text-align: right;\n",
       "    }\n",
       "</style>\n",
       "<table border=\"1\" class=\"dataframe\">\n",
       "  <thead>\n",
       "    <tr style=\"text-align: right;\">\n",
       "      <th></th>\n",
       "      <th>age</th>\n",
       "      <th>bmi</th>\n",
       "      <th>smoker</th>\n",
       "      <th>charges</th>\n",
       "    </tr>\n",
       "  </thead>\n",
       "  <tbody>\n",
       "    <tr>\n",
       "      <th>0</th>\n",
       "      <td>0.021739</td>\n",
       "      <td>0.380801</td>\n",
       "      <td>1</td>\n",
       "      <td>0.471907</td>\n",
       "    </tr>\n",
       "    <tr>\n",
       "      <th>1</th>\n",
       "      <td>0.000000</td>\n",
       "      <td>0.568011</td>\n",
       "      <td>0</td>\n",
       "      <td>0.018073</td>\n",
       "    </tr>\n",
       "    <tr>\n",
       "      <th>2</th>\n",
       "      <td>0.217391</td>\n",
       "      <td>0.543454</td>\n",
       "      <td>0</td>\n",
       "      <td>0.099620</td>\n",
       "    </tr>\n",
       "    <tr>\n",
       "      <th>3</th>\n",
       "      <td>0.326087</td>\n",
       "      <td>0.215117</td>\n",
       "      <td>0</td>\n",
       "      <td>0.624574</td>\n",
       "    </tr>\n",
       "    <tr>\n",
       "      <th>4</th>\n",
       "      <td>0.304348</td>\n",
       "      <td>0.412055</td>\n",
       "      <td>0</td>\n",
       "      <td>0.082178</td>\n",
       "    </tr>\n",
       "    <tr>\n",
       "      <th>...</th>\n",
       "      <td>...</td>\n",
       "      <td>...</td>\n",
       "      <td>...</td>\n",
       "      <td>...</td>\n",
       "    </tr>\n",
       "    <tr>\n",
       "      <th>1333</th>\n",
       "      <td>0.695652</td>\n",
       "      <td>0.478712</td>\n",
       "      <td>0</td>\n",
       "      <td>0.283768</td>\n",
       "    </tr>\n",
       "    <tr>\n",
       "      <th>1334</th>\n",
       "      <td>0.000000</td>\n",
       "      <td>0.509010</td>\n",
       "      <td>0</td>\n",
       "      <td>0.032455</td>\n",
       "    </tr>\n",
       "    <tr>\n",
       "      <th>1335</th>\n",
       "      <td>0.000000</td>\n",
       "      <td>0.666241</td>\n",
       "      <td>0</td>\n",
       "      <td>0.015207</td>\n",
       "    </tr>\n",
       "    <tr>\n",
       "      <th>1336</th>\n",
       "      <td>0.065217</td>\n",
       "      <td>0.313826</td>\n",
       "      <td>0</td>\n",
       "      <td>0.026527</td>\n",
       "    </tr>\n",
       "    <tr>\n",
       "      <th>1337</th>\n",
       "      <td>0.934783</td>\n",
       "      <td>0.418115</td>\n",
       "      <td>1</td>\n",
       "      <td>0.838834</td>\n",
       "    </tr>\n",
       "  </tbody>\n",
       "</table>\n",
       "<p>1337 rows × 4 columns</p>\n",
       "</div>"
      ],
      "text/plain": [
       "           age       bmi  smoker   charges\n",
       "0     0.021739  0.380801       1  0.471907\n",
       "1     0.000000  0.568011       0  0.018073\n",
       "2     0.217391  0.543454       0  0.099620\n",
       "3     0.326087  0.215117       0  0.624574\n",
       "4     0.304348  0.412055       0  0.082178\n",
       "...        ...       ...     ...       ...\n",
       "1333  0.695652  0.478712       0  0.283768\n",
       "1334  0.000000  0.509010       0  0.032455\n",
       "1335  0.000000  0.666241       0  0.015207\n",
       "1336  0.065217  0.313826       0  0.026527\n",
       "1337  0.934783  0.418115       1  0.838834\n",
       "\n",
       "[1337 rows x 4 columns]"
      ]
     },
     "execution_count": 2250,
     "metadata": {},
     "output_type": "execute_result"
    }
   ],
   "source": [
    "df[numeric_cols]=mm.fit_transform(df[numeric_cols])\n",
    "df"
   ]
  },
  {
   "cell_type": "code",
   "execution_count": 2251,
   "id": "bdeaa3ad",
   "metadata": {},
   "outputs": [
    {
     "data": {
      "text/html": [
       "<div>\n",
       "<style scoped>\n",
       "    .dataframe tbody tr th:only-of-type {\n",
       "        vertical-align: middle;\n",
       "    }\n",
       "\n",
       "    .dataframe tbody tr th {\n",
       "        vertical-align: top;\n",
       "    }\n",
       "\n",
       "    .dataframe thead th {\n",
       "        text-align: right;\n",
       "    }\n",
       "</style>\n",
       "<table border=\"1\" class=\"dataframe\">\n",
       "  <thead>\n",
       "    <tr style=\"text-align: right;\">\n",
       "      <th></th>\n",
       "      <th>age</th>\n",
       "      <th>bmi</th>\n",
       "      <th>smoker</th>\n",
       "    </tr>\n",
       "  </thead>\n",
       "  <tbody>\n",
       "    <tr>\n",
       "      <th>0</th>\n",
       "      <td>0.021739</td>\n",
       "      <td>0.380801</td>\n",
       "      <td>1</td>\n",
       "    </tr>\n",
       "    <tr>\n",
       "      <th>1</th>\n",
       "      <td>0.000000</td>\n",
       "      <td>0.568011</td>\n",
       "      <td>0</td>\n",
       "    </tr>\n",
       "    <tr>\n",
       "      <th>2</th>\n",
       "      <td>0.217391</td>\n",
       "      <td>0.543454</td>\n",
       "      <td>0</td>\n",
       "    </tr>\n",
       "    <tr>\n",
       "      <th>3</th>\n",
       "      <td>0.326087</td>\n",
       "      <td>0.215117</td>\n",
       "      <td>0</td>\n",
       "    </tr>\n",
       "    <tr>\n",
       "      <th>4</th>\n",
       "      <td>0.304348</td>\n",
       "      <td>0.412055</td>\n",
       "      <td>0</td>\n",
       "    </tr>\n",
       "    <tr>\n",
       "      <th>...</th>\n",
       "      <td>...</td>\n",
       "      <td>...</td>\n",
       "      <td>...</td>\n",
       "    </tr>\n",
       "    <tr>\n",
       "      <th>1333</th>\n",
       "      <td>0.695652</td>\n",
       "      <td>0.478712</td>\n",
       "      <td>0</td>\n",
       "    </tr>\n",
       "    <tr>\n",
       "      <th>1334</th>\n",
       "      <td>0.000000</td>\n",
       "      <td>0.509010</td>\n",
       "      <td>0</td>\n",
       "    </tr>\n",
       "    <tr>\n",
       "      <th>1335</th>\n",
       "      <td>0.000000</td>\n",
       "      <td>0.666241</td>\n",
       "      <td>0</td>\n",
       "    </tr>\n",
       "    <tr>\n",
       "      <th>1336</th>\n",
       "      <td>0.065217</td>\n",
       "      <td>0.313826</td>\n",
       "      <td>0</td>\n",
       "    </tr>\n",
       "    <tr>\n",
       "      <th>1337</th>\n",
       "      <td>0.934783</td>\n",
       "      <td>0.418115</td>\n",
       "      <td>1</td>\n",
       "    </tr>\n",
       "  </tbody>\n",
       "</table>\n",
       "<p>1337 rows × 3 columns</p>\n",
       "</div>"
      ],
      "text/plain": [
       "           age       bmi  smoker\n",
       "0     0.021739  0.380801       1\n",
       "1     0.000000  0.568011       0\n",
       "2     0.217391  0.543454       0\n",
       "3     0.326087  0.215117       0\n",
       "4     0.304348  0.412055       0\n",
       "...        ...       ...     ...\n",
       "1333  0.695652  0.478712       0\n",
       "1334  0.000000  0.509010       0\n",
       "1335  0.000000  0.666241       0\n",
       "1336  0.065217  0.313826       0\n",
       "1337  0.934783  0.418115       1\n",
       "\n",
       "[1337 rows x 3 columns]"
      ]
     },
     "execution_count": 2251,
     "metadata": {},
     "output_type": "execute_result"
    }
   ],
   "source": [
    "x=df.drop(columns='charges')\n",
    "x"
   ]
  },
  {
   "cell_type": "code",
   "execution_count": 2252,
   "id": "249f82db",
   "metadata": {},
   "outputs": [
    {
     "data": {
      "text/plain": [
       "0       0.471907\n",
       "1       0.018073\n",
       "2       0.099620\n",
       "3       0.624574\n",
       "4       0.082178\n",
       "          ...   \n",
       "1333    0.283768\n",
       "1334    0.032455\n",
       "1335    0.015207\n",
       "1336    0.026527\n",
       "1337    0.838834\n",
       "Name: charges, Length: 1337, dtype: float64"
      ]
     },
     "execution_count": 2252,
     "metadata": {},
     "output_type": "execute_result"
    }
   ],
   "source": [
    "y=df['charges']\n",
    "y"
   ]
  },
  {
   "cell_type": "code",
   "execution_count": 2253,
   "id": "9c576c19",
   "metadata": {},
   "outputs": [],
   "source": [
    "x_train,x_test,y_train,y_test=train_test_split(x,y,test_size=0.2,random_state=42)"
   ]
  },
  {
   "cell_type": "code",
   "execution_count": 2254,
   "id": "fdcee332",
   "metadata": {},
   "outputs": [
    {
     "name": "stdout",
     "output_type": "stream",
     "text": [
      "(1069, 3)\n",
      "(268, 3)\n"
     ]
    }
   ],
   "source": [
    "print(x_train.shape)\n",
    "print(x_test.shape)"
   ]
  },
  {
   "cell_type": "code",
   "execution_count": 2255,
   "id": "ceeb24ca",
   "metadata": {},
   "outputs": [
    {
     "data": {
      "text/html": [
       "<style>#sk-container-id-33 {color: black;}#sk-container-id-33 pre{padding: 0;}#sk-container-id-33 div.sk-toggleable {background-color: white;}#sk-container-id-33 label.sk-toggleable__label {cursor: pointer;display: block;width: 100%;margin-bottom: 0;padding: 0.3em;box-sizing: border-box;text-align: center;}#sk-container-id-33 label.sk-toggleable__label-arrow:before {content: \"▸\";float: left;margin-right: 0.25em;color: #696969;}#sk-container-id-33 label.sk-toggleable__label-arrow:hover:before {color: black;}#sk-container-id-33 div.sk-estimator:hover label.sk-toggleable__label-arrow:before {color: black;}#sk-container-id-33 div.sk-toggleable__content {max-height: 0;max-width: 0;overflow: hidden;text-align: left;background-color: #f0f8ff;}#sk-container-id-33 div.sk-toggleable__content pre {margin: 0.2em;color: black;border-radius: 0.25em;background-color: #f0f8ff;}#sk-container-id-33 input.sk-toggleable__control:checked~div.sk-toggleable__content {max-height: 200px;max-width: 100%;overflow: auto;}#sk-container-id-33 input.sk-toggleable__control:checked~label.sk-toggleable__label-arrow:before {content: \"▾\";}#sk-container-id-33 div.sk-estimator input.sk-toggleable__control:checked~label.sk-toggleable__label {background-color: #d4ebff;}#sk-container-id-33 div.sk-label input.sk-toggleable__control:checked~label.sk-toggleable__label {background-color: #d4ebff;}#sk-container-id-33 input.sk-hidden--visually {border: 0;clip: rect(1px 1px 1px 1px);clip: rect(1px, 1px, 1px, 1px);height: 1px;margin: -1px;overflow: hidden;padding: 0;position: absolute;width: 1px;}#sk-container-id-33 div.sk-estimator {font-family: monospace;background-color: #f0f8ff;border: 1px dotted black;border-radius: 0.25em;box-sizing: border-box;margin-bottom: 0.5em;}#sk-container-id-33 div.sk-estimator:hover {background-color: #d4ebff;}#sk-container-id-33 div.sk-parallel-item::after {content: \"\";width: 100%;border-bottom: 1px solid gray;flex-grow: 1;}#sk-container-id-33 div.sk-label:hover label.sk-toggleable__label {background-color: #d4ebff;}#sk-container-id-33 div.sk-serial::before {content: \"\";position: absolute;border-left: 1px solid gray;box-sizing: border-box;top: 0;bottom: 0;left: 50%;z-index: 0;}#sk-container-id-33 div.sk-serial {display: flex;flex-direction: column;align-items: center;background-color: white;padding-right: 0.2em;padding-left: 0.2em;position: relative;}#sk-container-id-33 div.sk-item {position: relative;z-index: 1;}#sk-container-id-33 div.sk-parallel {display: flex;align-items: stretch;justify-content: center;background-color: white;position: relative;}#sk-container-id-33 div.sk-item::before, #sk-container-id-33 div.sk-parallel-item::before {content: \"\";position: absolute;border-left: 1px solid gray;box-sizing: border-box;top: 0;bottom: 0;left: 50%;z-index: -1;}#sk-container-id-33 div.sk-parallel-item {display: flex;flex-direction: column;z-index: 1;position: relative;background-color: white;}#sk-container-id-33 div.sk-parallel-item:first-child::after {align-self: flex-end;width: 50%;}#sk-container-id-33 div.sk-parallel-item:last-child::after {align-self: flex-start;width: 50%;}#sk-container-id-33 div.sk-parallel-item:only-child::after {width: 0;}#sk-container-id-33 div.sk-dashed-wrapped {border: 1px dashed gray;margin: 0 0.4em 0.5em 0.4em;box-sizing: border-box;padding-bottom: 0.4em;background-color: white;}#sk-container-id-33 div.sk-label label {font-family: monospace;font-weight: bold;display: inline-block;line-height: 1.2em;}#sk-container-id-33 div.sk-label-container {text-align: center;}#sk-container-id-33 div.sk-container {/* jupyter's `normalize.less` sets `[hidden] { display: none; }` but bootstrap.min.css set `[hidden] { display: none !important; }` so we also need the `!important` here to be able to override the default hidden behavior on the sphinx rendered scikit-learn.org. See: https://github.com/scikit-learn/scikit-learn/issues/21755 */display: inline-block !important;position: relative;}#sk-container-id-33 div.sk-text-repr-fallback {display: none;}</style><div id=\"sk-container-id-33\" class=\"sk-top-container\"><div class=\"sk-text-repr-fallback\"><pre>LinearRegression()</pre><b>In a Jupyter environment, please rerun this cell to show the HTML representation or trust the notebook. <br />On GitHub, the HTML representation is unable to render, please try loading this page with nbviewer.org.</b></div><div class=\"sk-container\" hidden><div class=\"sk-item\"><div class=\"sk-estimator sk-toggleable\"><input class=\"sk-toggleable__control sk-hidden--visually\" id=\"sk-estimator-id-33\" type=\"checkbox\" checked><label for=\"sk-estimator-id-33\" class=\"sk-toggleable__label sk-toggleable__label-arrow\">LinearRegression</label><div class=\"sk-toggleable__content\"><pre>LinearRegression()</pre></div></div></div></div></div>"
      ],
      "text/plain": [
       "LinearRegression()"
      ]
     },
     "execution_count": 2255,
     "metadata": {},
     "output_type": "execute_result"
    }
   ],
   "source": [
    "lg=LinearRegression()\n",
    "\n",
    "model=lg.fit(x_train,y_train)\n",
    "model"
   ]
  },
  {
   "cell_type": "code",
   "execution_count": 2256,
   "id": "7e588a91",
   "metadata": {},
   "outputs": [
    {
     "data": {
      "text/plain": [
       "900     0.226537\n",
       "1064    0.137323\n",
       "1256    0.308801\n",
       "298     1.000000\n",
       "237     0.100031\n",
       "          ...   \n",
       "534     0.380483\n",
       "542     0.382162\n",
       "760     0.083941\n",
       "1284    1.000000\n",
       "1285    0.221921\n",
       "Name: charges, Length: 268, dtype: float64"
      ]
     },
     "execution_count": 2256,
     "metadata": {},
     "output_type": "execute_result"
    }
   ],
   "source": [
    "y_test"
   ]
  },
  {
   "cell_type": "code",
   "execution_count": 2257,
   "id": "0a737677",
   "metadata": {},
   "outputs": [
    {
     "data": {
      "text/plain": [
       "array([0.2360716 , 0.11901678, 0.33442445, 0.77426504, 0.21076956,\n",
       "       0.32770875, 0.7338354 , 0.06350451, 0.2755085 , 0.27380814,\n",
       "       0.30890785, 0.87400664, 0.77641593, 0.44891499, 0.23614832,\n",
       "       0.24668769, 0.103081  , 0.81319204, 0.08701937, 0.14340039,\n",
       "       0.103081  , 0.76934433, 0.35930355, 0.79141107, 0.79482256,\n",
       "       0.11372643, 0.88555919, 0.96161458, 0.2865805 , 0.30939378,\n",
       "       0.16600516, 0.33181522, 0.030334  , 0.33448974, 1.00954602,\n",
       "       0.32107152, 0.06939642, 0.091284  , 0.8413238 , 0.24951081,\n",
       "       0.15825836, 0.76814484, 0.86546539, 0.30946028, 0.20001025,\n",
       "       0.11344363, 0.13397961, 0.24043032, 0.11426864, 0.22816004,\n",
       "       0.15744412, 0.29119686, 0.80007576, 0.10509769, 0.26969089,\n",
       "       0.25205354, 0.2815933 , 0.07298223, 0.79616702, 0.23105626,\n",
       "       0.35190902, 0.21240638, 0.3127723 , 0.04747586, 0.3920343 ,\n",
       "       0.27080047, 0.25014831, 0.81553704, 0.65183655, 0.41207655,\n",
       "       0.23091304, 0.07185946, 0.19041691, 0.01096694, 0.31632217,\n",
       "       0.00828462, 0.44524828, 0.20822682, 0.22864651, 0.34797687,\n",
       "       0.13592079, 0.40456222, 0.39906634, 0.27349181, 0.95107818,\n",
       "       0.34793433, 0.12495661, 0.06730664, 0.14873152, 0.12077825,\n",
       "       0.37556885, 0.70186613, 0.10427686, 0.09826515, 0.07122977,\n",
       "       0.92202194, 0.37909058, 0.24749412, 0.12137739, 0.21817903,\n",
       "       0.38794937, 0.36665971, 0.85342394, 0.34932913, 0.79970491,\n",
       "       0.02756539, 0.77955659, 0.65320498, 0.34418915, 0.16895589,\n",
       "       0.20515804, 0.32567766, 0.19974426, 0.21152686, 0.15639445,\n",
       "       0.14774054, 0.051949  , 0.09150691, 0.17791779, 0.24913095,\n",
       "       0.94230446, 0.20514068, 0.29709294, 0.21307861, 0.24024039,\n",
       "       0.24089526, 0.08144621, 0.35235834, 0.7618977 , 1.01194554,\n",
       "       0.94561527, 0.30526335, 0.09269078, 0.27712015, 0.22747704,\n",
       "       0.07940677, 0.89047209, 0.77610136, 0.65904775, 0.13631263,\n",
       "       0.16506991, 0.12157809, 0.92798276, 0.28804598, 0.13923523,\n",
       "       0.23097118, 0.24923284, 0.23255888, 0.89668033, 0.38304845,\n",
       "       0.23639815, 0.15568804, 0.18973391, 0.44302309, 0.18991603,\n",
       "       0.68489804, 0.89402438, 0.3672427 , 0.28192403, 0.30208433,\n",
       "       0.3321687 , 0.13147578, 0.34732981, 0.36399476, 0.93120607,\n",
       "       0.84402712, 0.31575479, 0.65337633, 0.07878785, 0.03186718,\n",
       "       0.13465481, 0.12713509, 0.14005122, 0.29878846, 0.2452276 ,\n",
       "       0.67946206, 0.0695426 , 0.29536862, 0.20448339, 0.27978511,\n",
       "       0.37741418, 0.13237092, 0.28019971, 0.29449866, 0.82555399,\n",
       "       0.3081943 , 0.14852301, 0.12163382, 0.03220989, 0.78593739,\n",
       "       0.18793353, 0.85426753, 0.32885668, 0.16378656, 0.04863698,\n",
       "       0.07201224, 0.82555399, 0.12383263, 0.33650643, 0.41962386,\n",
       "       0.67762574, 0.6881717 , 0.19298481, 0.34091967, 0.70483126,\n",
       "       0.20249429, 0.24615087, 0.25693051, 0.09364461, 0.84627749,\n",
       "       0.80881474, 0.23542454, 0.16251519, 0.19134018, 0.32313492,\n",
       "       0.12175725, 0.1264988 , 0.30601527, 0.26667004, 0.07302059,\n",
       "       0.1101382 , 0.92484089, 0.92066132, 0.35685545, 0.2955879 ,\n",
       "       0.99539622, 0.88770228, 0.22237596, 0.6806999 , 0.11682874,\n",
       "       0.42411558, 0.77271207, 0.13086709, 0.25930189, 0.26488999,\n",
       "       0.26829609, 0.28527616, 0.11301826, 0.14613306, 0.12503091,\n",
       "       0.12767191, 0.13202821, 0.14370595, 0.26171998, 0.04846563,\n",
       "       0.23665216, 0.08389069, 0.25304452, 0.06605384, 0.24174423,\n",
       "       0.08910497, 0.32079531, 0.34984078, 0.3541252 , 0.9175488 ,\n",
       "       0.60754907, 0.28869304, 0.16252179, 0.21264962, 0.30150376,\n",
       "       0.70706305, 0.99599535, 0.35174843, 0.44778981, 0.41544968,\n",
       "       0.12632745, 0.9897991 , 0.2335115 ])"
      ]
     },
     "execution_count": 2257,
     "metadata": {},
     "output_type": "execute_result"
    }
   ],
   "source": [
    "y_test_pred=model.predict(x_test)\n",
    "y_test_pred"
   ]
  },
  {
   "cell_type": "code",
   "execution_count": 2258,
   "id": "d9a1c968",
   "metadata": {},
   "outputs": [
    {
     "data": {
      "text/plain": [
       "0.8165518569106659"
      ]
     },
     "execution_count": 2258,
     "metadata": {},
     "output_type": "execute_result"
    }
   ],
   "source": [
    "y_test_r2_score=r2_score(y_test,y_test_pred)\n",
    "y_test_r2_score"
   ]
  },
  {
   "cell_type": "code",
   "execution_count": 2259,
   "id": "430147af",
   "metadata": {},
   "outputs": [
    {
     "data": {
      "text/plain": [
       "1114    0.038147\n",
       "968     0.064605\n",
       "599     0.968482\n",
       "170     0.367738\n",
       "275     0.257282\n",
       "          ...   \n",
       "1096    1.000000\n",
       "1131    0.076986\n",
       "1295    0.025235\n",
       "861     0.180500\n",
       "1127    0.141145\n",
       "Name: charges, Length: 1069, dtype: float64"
      ]
     },
     "execution_count": 2259,
     "metadata": {},
     "output_type": "execute_result"
    }
   ],
   "source": [
    "y_train_pred=model.predict(x_train)\n",
    "y_train"
   ]
  },
  {
   "cell_type": "code",
   "execution_count": 2260,
   "id": "619f87ba",
   "metadata": {},
   "outputs": [
    {
     "data": {
      "text/plain": [
       "0.7214377255832263"
      ]
     },
     "execution_count": 2260,
     "metadata": {},
     "output_type": "execute_result"
    }
   ],
   "source": [
    "y_train_r2_score=r2_score(y_train,y_train_pred)\n",
    "y_train_r2_score"
   ]
  },
  {
   "cell_type": "code",
   "execution_count": null,
   "id": "fff2db09",
   "metadata": {},
   "outputs": [],
   "source": []
  }
 ],
 "metadata": {
  "kernelspec": {
   "display_name": "Python 3 (ipykernel)",
   "language": "python",
   "name": "python3"
  },
  "language_info": {
   "codemirror_mode": {
    "name": "ipython",
    "version": 3
   },
   "file_extension": ".py",
   "mimetype": "text/x-python",
   "name": "python",
   "nbconvert_exporter": "python",
   "pygments_lexer": "ipython3",
   "version": "3.11.5"
  }
 },
 "nbformat": 4,
 "nbformat_minor": 5
}
